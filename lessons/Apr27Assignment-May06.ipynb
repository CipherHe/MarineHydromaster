{
 "metadata": {
  "name": "",
  "signature": "sha256:10acc982a0dc334b8698a0db9c627a225757494f44fdd3584a67bc1286e7db0f"
 },
 "nbformat": 3,
 "nbformat_minor": 0,
 "worksheets": [
  {
   "cells": [
    {
     "cell_type": "markdown",
     "metadata": {},
     "source": [
      "#Assignment"
     ]
    },
    {
     "cell_type": "markdown",
     "metadata": {},
     "source": [
      "##circlular cylinder"
     ]
    },
    {
     "cell_type": "code",
     "collapsed": false,
     "input": [
      "import numpy\n",
      "from matplotlib import pyplot\n",
      "%matplotlib inline"
     ],
     "language": "python",
     "metadata": {},
     "outputs": [],
     "prompt_number": 8
    },
    {
     "cell_type": "code",
     "collapsed": false,
     "input": [
      "# velocity component functions\n",
      "def get_u( x, y, S, gamma ):\n",
      "    return gamma/(2*numpy.pi)*(numpy.arctan((x-S)/y)-numpy.arctan((x+S)/y))\n",
      "def get_v( x, y, S, gamma ):\n",
      "    return gamma/(4*numpy.pi)*(numpy.log(((x+S)**2+y**2)/((x-S)**2+y**2)))"
     ],
     "language": "python",
     "metadata": {},
     "outputs": [],
     "prompt_number": 9
    },
    {
     "cell_type": "code",
     "collapsed": false,
     "input": [
      "# vortex panel class\n",
      "class Panel:\n",
      "    \n",
      "    # save the inputs and pre-compute factors for the coordinate tranform\n",
      "    def __init__( self, x0, y0, x1, y1, gamma=0 ):\n",
      "        self.x,self.y,self.gamma = [x0,x1],[y0,y1],gamma\n",
      "        self.xc = 0.5*(x0+x1)                # panel x-center\n",
      "        self.yc = 0.5*(y0+y1)                # panel y-center\n",
      "        self.S = numpy.sqrt(                 # ...\n",
      "                            (x1-self.xc)**2+(y1-self.yc)**2) # panel width\n",
      "        self.sx = (x1-self.xc)/self.S        # unit vector in x\n",
      "        self.sy = (y1-self.yc)/self.S        # unit vector in y\n",
      "    \n",
      "    # get the velocity!\n",
      "    def velocity( self, x, y, gamma=None ):\n",
      "        if gamma is None: gamma = self.gamma # default gamma\n",
      "        xp,yp = self.transform_xy( x, y )    # transform\n",
      "        up = get_u( xp, yp, self.S, gamma )  # get u prime\n",
      "        vp = get_v( xp, yp, self.S, gamma )  # get v prime\n",
      "        return self.rotate_uv( up, vp )      # rotate back\n",
      "    \n",
      "    # plot the panel\n",
      "    def plot(self):\n",
      "        return pyplot.plot(self.x,self.y,'k-',lw=2)\n",
      "    \n",
      "    # transform from global to panel coordinates\n",
      "    def transform_xy( self, x, y ):\n",
      "        xt = x-self.xc               # shift x\n",
      "        yt = y-self.yc               # shift y\n",
      "        xp = xt*self.sx+yt*self.sy   # rotate x\n",
      "        yp = yt*self.sx-xt*self.sy   # rotate y\n",
      "        return [ xp, yp ]\n",
      "    \n",
      "    # rotate velocity back to global coordinates\n",
      "    def rotate_uv( self, up, vp):\n",
      "        u = up*self.sx-vp*self.sy    # reverse rotate u prime\n",
      "        v = vp*self.sx+up*self.sy    # reverse rotate v prime\n",
      "        return [ u, v ]"
     ],
     "language": "python",
     "metadata": {},
     "outputs": [],
     "prompt_number": 10
    },
    {
     "cell_type": "code",
     "collapsed": false,
     "input": [
      "def flow_velocity(panels,x,y,alpha=0):\n",
      "    # get the uniform velocity ( make it the same size & shape as x )\n",
      "    u = numpy.cos(alpha)*numpy.ones_like(x)\n",
      "    v = numpy.sin(alpha)*numpy.ones_like(x)\n",
      "    \n",
      "    # add the velocity contribution from each panel\n",
      "    for p in panels:\n",
      "        u0,v0 = p.velocity(x,y)\n",
      "        u = u+u0\n",
      "        v = v+v0\n",
      "    \n",
      "    return [u,v]"
     ],
     "language": "python",
     "metadata": {},
     "outputs": [],
     "prompt_number": 11
    },
    {
     "cell_type": "code",
     "collapsed": false,
     "input": [
      "def plot_flow(panels,alpha=0,xmax=2,N_grid=100):\n",
      "    # define the grid\n",
      "    X = numpy.linspace(-xmax, xmax, N_grid)     # computes a 1D-array for x\n",
      "    Y = numpy.linspace(-xmax, xmax, N_grid)     # computes a 1D-array for y\n",
      "    x, y = numpy.meshgrid(X, Y)                 # generates a mesh grid\n",
      "    \n",
      "    # get the velocity from the free stream and panels\n",
      "    u,v = flow_velocity(panels,x,y,alpha)\n",
      "    \n",
      "    # plot it\n",
      "    pyplot.figure(figsize=(8,11))               # set size\n",
      "    pyplot.xlabel('x', fontsize=16)             # label x\n",
      "    pyplot.ylabel('y', fontsize=16)             # label y\n",
      "    m = numpy.sqrt(u**2+v**2)                   # compute velocity magnitude\n",
      "    velocity = pyplot.contourf(x, y, m)         # plot magnitude contours\n",
      "    cbar = pyplot.colorbar(velocity, orientation='horizontal')\n",
      "    cbar.set_label('Velocity magnitude', fontsize=16);\n",
      "    pyplot.quiver(x[::4,::4], y[::4,::4],\n",
      "                  u[::4,::4], v[::4,::4])       # plot vector field\n",
      "#    pyplot.streamplot(x, y, u, v)               # plots streamlines - this is slow!\n",
      "    for p in panels: p.plot()\n",
      "        \n"
     ],
     "language": "python",
     "metadata": {},
     "outputs": [],
     "prompt_number": 12
    },
    {
     "cell_type": "code",
     "collapsed": false,
     "input": [
      "# define the influence of panel_j on panel_i\n",
      "def influence(panel_i,panel_j):\n",
      "    u,v = panel_j.velocity(panel_i.xc,panel_i.yc,gamma=1)\n",
      "    return u*panel_i.sx+v*panel_i.sy"
     ],
     "language": "python",
     "metadata": {},
     "outputs": [],
     "prompt_number": 13
    },
    {
     "cell_type": "code",
     "collapsed": false,
     "input": [
      "# construct the linear system\n",
      "def construct_A_b(panels,alpha=0):\n",
      "    # construct matrix\n",
      "    N_panels = len(panels)\n",
      "    A = numpy.empty((N_panels, N_panels), dtype=float) # empty matrix\n",
      "    numpy.fill_diagonal(A, 0.5)                        # fill diagonal with 1/2\n",
      "    for i, p_i in enumerate(panels):\n",
      "        for j, p_j in enumerate(panels):\n",
      "            if i != j:                                 # off-diagonals\n",
      "                A[i,j] = influence(p_i,p_j)            # find influence\n",
      "    \n",
      "    # computes the RHS\n",
      "    b = [-numpy.cos(alpha)*p.sx-numpy.sin(alpha)*p.sy for p in panels]\n",
      "    return [A,b]"
     ],
     "language": "python",
     "metadata": {},
     "outputs": [],
     "prompt_number": 14
    },
    {
     "cell_type": "code",
     "collapsed": false,
     "input": [
      "# determine the vortex strength on a set of panels\n",
      "def solve_gamma(panels,alpha=0):\n",
      "    A,b = construct_A_b(panels,alpha)  # construct linear system\n",
      "    gamma = numpy.linalg.solve(A, b)   # solve for gamma!\n",
      "    for i,p_i in enumerate(panels):\n",
      "        p_i.gamma = gamma[i]           # update panels"
     ],
     "language": "python",
     "metadata": {},
     "outputs": [],
     "prompt_number": 15
    },
    {
     "cell_type": "code",
     "collapsed": false,
     "input": [
      "def make_circle(N):\n",
      "    x_ends=numpy.cos(numpy.linspace(0,-2*numpy.pi,N+1))\n",
      "    y_ends=numpy.sin(numpy.linspace(0,-2*numpy.pi,N+1))\n",
      "    \n",
      "    circle=numpy.empty(N,dtype=object)\n",
      "    for i in range(N):\n",
      "        circle[i]=Panel(x_ends[i],y_ends[i],x_ends[i+1],y_ends[i+1])\n",
      "    return circle"
     ],
     "language": "python",
     "metadata": {},
     "outputs": [],
     "prompt_number": 16
    },
    {
     "cell_type": "code",
     "collapsed": false,
     "input": [
      "def make_circle_t(N):\n",
      "    x_ends=numpy.cos(numpy.linspace(0,-2*numpy.pi,N+1))\n",
      "    y_ends=numpy.sin(numpy.linspace(0,-2*numpy.pi,N+1))+1\n",
      "    \n",
      "    circle=numpy.empty(N,dtype=object)\n",
      "    for i in range(N):\n",
      "        circle[i]=Panel(x_ends[i],y_ends[i],x_ends[i+1],y_ends[i+1])\n",
      "    return circle"
     ],
     "language": "python",
     "metadata": {},
     "outputs": [],
     "prompt_number": 17
    },
    {
     "cell_type": "code",
     "collapsed": false,
     "input": [
      "def c_p(gamma): return 1-gamma**2"
     ],
     "language": "python",
     "metadata": {},
     "outputs": [],
     "prompt_number": 18
    },
    {
     "cell_type": "code",
     "collapsed": false,
     "input": [
      "N_resolution=[32,64,128]\n",
      "for m in range(3):\n",
      "    circle = make_circle(N_resolution[m])\n",
      "    solve_gamma(circle)\n",
      "    coeff = numpy.zeros(N_resolution[m])\n",
      "    for i,p_i in enumerate(circle): coeff[i]=c_p(p_i.gamma)\n",
      "    pyplot.plot(numpy.linspace(1,N_resolution[m],N_resolution[m])/N_resolution[m]*numpy.pi/180,coeff)\n",
      "pyplot.legend([\"N=32\",\"N=64\",\"N=128\"])\n",
      "pyplot.title('$C_p$ of the circular cylinder under different resolution')\n",
      "pyplot.xlabel('phase angle /rad')\n",
      "pyplot.ylabel('$C_p$')"
     ],
     "language": "python",
     "metadata": {},
     "outputs": [
      {
       "metadata": {},
       "output_type": "pyout",
       "prompt_number": 19,
       "text": [
        "<matplotlib.text.Text at 0xa4a6390>"
       ]
      },
      {
       "metadata": {},
       "output_type": "display_data",
       "png": "[encoded data removed]",
       "text": [
        "<matplotlib.figure.Figure at 0x4155588>"
       ]
      }
     ],
     "prompt_number": 19
    },
    {
     "cell_type": "code",
     "collapsed": false,
     "input": [
      "\n"
     ],
     "language": "python",
     "metadata": {},
     "outputs": [],
     "prompt_number": 19
    },
    {
     "cell_type": "markdown",
     "metadata": {},
     "source": [
      "### Derivation of $C_F$"
     ]
    },
    {
     "cell_type": "code",
     "collapsed": false,
     "input": [
      "def pohlF(eta): return 2*eta-2*eta**3+eta**4\n",
      "def pohlG(eta): return eta/6*(1-eta)**3"
     ],
     "language": "python",
     "metadata": {},
     "outputs": [],
     "prompt_number": 20
    },
    {
     "cell_type": "code",
     "collapsed": false,
     "input": [
      "def disp_ratio(lam): return 3./10.-lam/120.\n",
      "def mom_ratio(lam): return 37./315.-lam/945.-lam**2/9072.\n",
      "def df_0(lam): return 2+lam/6."
     ],
     "language": "python",
     "metadata": {},
     "outputs": [],
     "prompt_number": 21
    },
    {
     "cell_type": "code",
     "collapsed": false,
     "input": [
      "def g_1(lam): return df_0(lam)-lam*(disp_ratio(lam)+2*mom_ratio(lam))"
     ],
     "language": "python",
     "metadata": {},
     "outputs": [],
     "prompt_number": 22
    },
    {
     "cell_type": "code",
     "collapsed": false,
     "input": [
      "from scipy.optimize import bisect\n",
      "lam0 = bisect(g_1,-12,12)         # use bisect method to find root between -12...12\n",
      "print 'lambda_0 = ',lam0"
     ],
     "language": "python",
     "metadata": {},
     "outputs": [
      {
       "output_type": "stream",
       "stream": "stdout",
       "text": [
        "lambda_0 =  7.05232310118\n"
       ]
      }
     ],
     "prompt_number": 23
    },
    {
     "cell_type": "code",
     "collapsed": false,
     "input": [
      "def ddx_delta(Re_d,lam):\n",
      "    if Re_d==0: return 0                     # Stagnation point condition\n",
      "    return g_1(lam)/mom_ratio(lam)/Re_d      # delta'"
     ],
     "language": "python",
     "metadata": {},
     "outputs": [],
     "prompt_number": 24
    },
    {
     "cell_type": "code",
     "collapsed": false,
     "input": [
      "def heun(g,psi_i,i,dx,*args):\n",
      "    g_i = g(psi_i,i,*args)                      # integrand at i\n",
      "    tilde_psi = psi_i+g_i*dx                    # predicted estimate at i+1\n",
      "    g_i_1 = g(tilde_psi,i+1,*args)              # integrand at i+1\n",
      "    return psi_i+0.5*(g_i+g_i_1)*dx             # corrected estimate"
     ],
     "language": "python",
     "metadata": {},
     "outputs": [],
     "prompt_number": 25
    },
    {
     "cell_type": "code",
     "collapsed": false,
     "input": [
      "def g_pohl(delta_i,i,u_e,du_e,nu):\n",
      "    Re_d = delta_i*u_e[i]/nu            # compute local Reynolds number\n",
      "    lam = delta_i**2*du_e[i]/nu         # compute local lambda \n",
      "    return ddx_delta(Re_d,lam)          # get derivative"
     ],
     "language": "python",
     "metadata": {},
     "outputs": [],
     "prompt_number": 26
    },
    {
     "cell_type": "code",
     "collapsed": false,
     "input": [
      "def march(x,u_e,du_e,nu):\n",
      "    delta0 = numpy.sqrt(lam0*nu/du_e[0])                # set delta0\n",
      "    delta = numpy.full_like(x,delta0)                   # delta array\n",
      "    lam = numpy.full_like(x,lam0)                       # lambda array\n",
      "    for i in range(len(x)-1):                           # march!\n",
      "        delta[i+1] = heun(g_pohl,delta[i],i,x[i+1]-x[i],    # integrate BL using...\n",
      "                          u_e,du_e,nu)                          # additional arguments\n",
      "        lam[i+1] = delta[i+1]**2*du_e[i+1]/nu               # compute lambda\n",
      "        if abs(lam[i+1])>12: break                          # check stop condition\n",
      "    return delta,lam,i  "
     ],
     "language": "python",
     "metadata": {},
     "outputs": [],
     "prompt_number": 27
    },
    {
     "cell_type": "code",
     "collapsed": false,
     "input": [
      "def half_c_f(lam,nu,delta,u_e):\n",
      "    Re_d = delta*u_e/nu;\n",
      "    return 2*df_0(lam)/Re_d"
     ],
     "language": "python",
     "metadata": {},
     "outputs": [],
     "prompt_number": 28
    },
    {
     "cell_type": "code",
     "collapsed": false,
     "input": [
      "def taw_w(lam,nu,delta,u_e):\n",
      "    taw=numpy.empty_like(lam)\n",
      "    for i in range(N):\n",
      "        if u_e[i]==0:\n",
      "            taw[i]=0\n",
      "        else:\n",
      "            taw[i]=half_c_f(lam[i],nu,delta[i],u_e[i])*u_e[i]**2\n",
      "    return taw"
     ],
     "language": "python",
     "metadata": {},
     "outputs": [],
     "prompt_number": 29
    },
    {
     "cell_type": "code",
     "collapsed": false,
     "input": [
      "def F_F_calc(lam,nu,delta,u_e,s_x):\n",
      "    taw=taw_w(lam,nu,delta,u_e)\n",
      "    dF_F=s_x*taw\n",
      "    F_F=numpy.trapz(dF_F[:iSep+1],s[:iSep+1], dx=s[-1]/(N-1))\n",
      "    return F_F"
     ],
     "language": "python",
     "metadata": {},
     "outputs": [],
     "prompt_number": 30
    },
    {
     "cell_type": "code",
     "collapsed": false,
     "input": [
      "C_F_flat=numpy.zeros(3)\n",
      "C_F_circle=numpy.zeros(3)\n",
      "nu=1e-5\n",
      "for m in range(3):\n",
      "    N=N_resolution[m]\n",
      "    s = numpy.linspace(0,numpy.pi,N)            # distance goes from 0..pi\n",
      "    s_x=numpy.sin(s);\n",
      "    u_e = 2.*numpy.sin(s)                       # velocity\n",
      "    du_e = 2.*numpy.cos(s)                      # gradient\n",
      "    delta,lam,iSep = march(s,u_e,du_e,nu)       # solve!\n",
      "    C_F_flat =1.33*numpy.sqrt(nu/s[-1])\n",
      "    C_F_circle= 2*F_F_calc(lam,nu,delta,u_e,s)/s[-1]"
     ],
     "language": "python",
     "metadata": {},
     "outputs": [],
     "prompt_number": 31
    },
    {
     "cell_type": "code",
     "collapsed": false,
     "input": [
      " F_F_calc(lam,nu,delta,u_e,s_x)"
     ],
     "language": "python",
     "metadata": {},
     "outputs": [
      {
       "metadata": {},
       "output_type": "pyout",
       "prompt_number": 32,
       "text": [
        "0.012773879130355634"
       ]
      }
     ],
     "prompt_number": 32
    },
    {
     "cell_type": "code",
     "collapsed": false,
     "input": [
      "for m in range(3):\n",
      "    N_resolution[m]"
     ],
     "language": "python",
     "metadata": {},
     "outputs": [],
     "prompt_number": 33
    },
    {
     "cell_type": "code",
     "collapsed": false,
     "input": [
      "print('Flat: '+'%.2e' %C_F_flat)\n",
      "print('Circle: '+'%.2e' %C_F_circle)"
     ],
     "language": "python",
     "metadata": {},
     "outputs": [
      {
       "output_type": "stream",
       "stream": "stdout",
       "text": [
        "Flat: 2.37e-03\n",
        "Circle: 1.04e-02\n"
       ]
      }
     ],
     "prompt_number": 34
    },
    {
     "cell_type": "code",
     "collapsed": false,
     "input": [
      "# split panels into two sections based on the flow velocity\n",
      "def split_panels(panels):\n",
      "    # positive velocity defines `top` BL\n",
      "    top = [p for p in panels if p.gamma<=0]      \n",
      "    # negative defines the `bottom`\n",
      "    bottom = [p for p in panels if p.gamma>=0]\n",
      "    # reverse array so panel[0] is stagnation\n",
      "    bottom = bottom[::-1]\n",
      "\n",
      "    return top,bottom"
     ],
     "language": "python",
     "metadata": {},
     "outputs": [],
     "prompt_number": 35
    },
    {
     "cell_type": "code",
     "collapsed": false,
     "input": [
      "# Pohlhausen Boundary Layer class\n",
      "class Pohlhausen:\n",
      "    def __init__(self,panels,nu):\n",
      "        self.u_e = [abs(p.gamma) for p in panels]   # tangential velocity\n",
      "        self.s = numpy.empty_like(self.u_e)         # initialize distance array\n",
      "        self.s[0] = panels[0].S\n",
      "        for i in range(len(self.s)-1):              # fill distance array\n",
      "            self.s[i+1] = self.s[i]+panels[i].S+panels[i+1].S           \n",
      "        ds = numpy.gradient(self.s)     \n",
      "        self.du_e = numpy.gradient(self.u_e,ds)     # compute velocity gradient\n",
      "\n",
      "        self.nu = nu                                # kinematic viscosity\n",
      "        self.xc = [p.xc for p in panels]            # x and ...\n",
      "        self.yc = [p.yc for p in panels]            # y locations\n",
      "        \n",
      "    def march(self):\n",
      "        # march down the boundary layer until separation\n",
      "        from BoundaryLayer import march\n",
      "        self.delta,self.lam,self.iSep = march(self.s,self.u_e,self.du_e,self.nu)\n",
      "\n",
      "        # interpolate values at the separation point\n",
      "        def sep_interp(y): return numpy.interp(    # interpolate function\n",
      "            12,-self.lam[self.iSep:self.iSep+2],y[self.iSep:self.iSep+2])\n",
      "        self.s_sep = sep_interp(self.s)\n",
      "        self.u_e_sep = sep_interp(self.u_e)\n",
      "        self.x_sep = sep_interp(self.xc)\n",
      "        self.y_sep = sep_interp(self.yc)\n",
      "        self.delta_sep = sep_interp(self.delta)"
     ],
     "language": "python",
     "metadata": {},
     "outputs": [],
     "prompt_number": 36
    },
    {
     "cell_type": "code",
     "collapsed": false,
     "input": [],
     "language": "python",
     "metadata": {},
     "outputs": [],
     "prompt_number": 36
    },
    {
     "cell_type": "markdown",
     "metadata": {},
     "source": [
      "##jukowsky foil"
     ]
    },
    {
     "cell_type": "code",
     "collapsed": false,
     "input": [
      "def make_jukowski( N, dx = 0.2, dy = 0, dr = 0 ):\n",
      "    # define the circle\n",
      "    x_ends = numpy.cos(numpy.linspace(0, -2*numpy.pi, N+1))\n",
      "    y_ends = numpy.sin(numpy.linspace(0, -2*numpy.pi, N+1))\n",
      "\n",
      "    # shift circle\n",
      "    r = numpy.sqrt((1+dx)**2+dy**2)+dr\n",
      "    x2_ends = r*x_ends-dx\n",
      "    y2_ends = r*y_ends-dy\n",
      "    r2_ends = x2_ends**2+y2_ends**2\n",
      "\n",
      "    # apply jukowski mapping\n",
      "    x3_ends = x2_ends*(1+1./r2_ends)/2\n",
      "    y3_ends = y2_ends*(1-1./r2_ends)/2\n",
      "    \n",
      "    # define the panels\n",
      "    foil = numpy.empty(N, dtype=object)\n",
      "    for i in range(N):\n",
      "        foil[i] = Panel(x3_ends[i], y3_ends[i], x3_ends[i+1], y3_ends[i+1])\n",
      "    \n",
      "    return foil"
     ],
     "language": "python",
     "metadata": {},
     "outputs": [],
     "prompt_number": 37
    },
    {
     "cell_type": "code",
     "collapsed": false,
     "input": [
      "def lift(panels):\n",
      "    c = panels[0].x[0]-panels[len(panels)/2].x[0]      # length scale\n",
      "    return -4./c*numpy.sum([p.gamma*p.S for p in panels])"
     ],
     "language": "python",
     "metadata": {},
     "outputs": [],
     "prompt_number": 38
    },
    {
     "cell_type": "code",
     "collapsed": false,
     "input": [
      "def solve_gamma_kutta(panels,alpha=0):\n",
      "    A,b = construct_A_b(panels,alpha)   # construct linear system\n",
      "    A[:, 0] += 1                        # gamma[0]+ ...\n",
      "    A[:,-1] += 1                        # gamma[N-1]=0\n",
      "    gamma = numpy.linalg.solve(A, b)    # solve for gamma!\n",
      "    for i,p_i in enumerate(panels):\n",
      "        p_i.gamma = gamma[i]            # update panels"
     ],
     "language": "python",
     "metadata": {},
     "outputs": [],
     "prompt_number": 39
    },
    {
     "cell_type": "markdown",
     "metadata": {},
     "source": [
      "The thickness to chord distribution is given by\n",
      "$\\frac{t}{c}=\\frac{a^2-b^2}{a^2+b^2}=\\frac{r^2-(r-dx)^2}{r^2+(r-dx)^2}=\\frac{dx^2+2dx}{dx^2+2dx+2}$"
     ]
    },
    {
     "cell_type": "code",
     "collapsed": false,
     "input": [
      "N = 64\n",
      "alpha = numpy.pi/18\n",
      "foil = make_jukowski(N,dx=0.15,dy=0,dr=0)             # make foil\n",
      "solve_gamma_kutta(foil,alpha)       # solve for gamma\n",
      "plot_flow(foil,alpha)               # plot the flow\n",
      "print 'C_L =',lift(foil)            # print the lift\n",
      "    "
     ],
     "language": "python",
     "metadata": {},
     "outputs": [
      {
       "output_type": "stream",
       "stream": "stdout",
       "text": [
        "C_L = 0.906415570333\n"
       ]
      },
      {
       "metadata": {},
       "output_type": "display_data",
       "png": "[encoded data removed]",
       "text": [
        "<matplotlib.figure.Figure at 0x3f544a8>"
       ]
      }
     ],
     "prompt_number": 40
    },
    {
     "cell_type": "code",
     "collapsed": false,
     "input": [
      "#calculate C_L in a range of angle of attack\n",
      "def C_L_AA(foil,alpha_max,M):\n",
      "    C_L=numpy.zeros(M)\n",
      "    for i in range(M):\n",
      "        alpha=alpha_max*i*numpy.pi/180./(M-1)\n",
      "        solve_gamma_kutta(foil,alpha)       # solve for gamma\n",
      "        C_L[i]=lift(foil)            # print the lift\n",
      "    return C_L"
     ],
     "language": "python",
     "metadata": {},
     "outputs": [],
     "prompt_number": 41
    },
    {
     "cell_type": "code",
     "collapsed": false,
     "input": [
      "def CLA(rr,alpha): return 2.*numpy.pi*(1+4./numpy.sqrt(3)/3.*rr)*numpy.sin(alpha)"
     ],
     "language": "python",
     "metadata": {},
     "outputs": [],
     "prompt_number": 42
    },
    {
     "cell_type": "code",
     "collapsed": false,
     "input": [
      "N=[32,64,128]\n",
      "M=101\n",
      "alpha_max=10.\n",
      "for p in range(3):\n",
      "    Na=N[p]\n",
      "    foil1 = make_jukowski(Na,dx=0.15,dy=0,dr=0)             # make foil\n",
      "    coff1=C_L_AA(foil1,10,M)\n",
      "    pyplot.plot(numpy.linspace(1,M,M)/M*alpha_max,coff1)\n",
      "    \n",
      "M=101\n",
      "rr=0.15\n",
      "coff2=numpy.zeros(M)\n",
      "for q in range(M):\n",
      "    alpha=alpha_max*q*numpy.pi/180./(M-1)\n",
      "    coff2[q]=CLA(rr,alpha)\n",
      "pyplot.plot(numpy.linspace(1,M,M)/M*alpha_max,coff2)\n",
      "pyplot.xlabel('Angle of attack /deg')\n",
      "pyplot.ylabel('$C_L$')\n",
      "pyplot.legend([\"N=32\",\"N=64\",\"N=128\",\"Analytical\"])"
     ],
     "language": "python",
     "metadata": {},
     "outputs": [
      {
       "metadata": {},
       "output_type": "pyout",
       "prompt_number": 43,
       "text": [
        "<matplotlib.legend.Legend at 0xb83f3c8>"
       ]
      },
      {
       "metadata": {},
       "output_type": "display_data",
       "png": "[encoded data removed]",
       "text": [
        "<matplotlib.figure.Figure at 0x3f544a8>"
       ]
      }
     ],
     "prompt_number": 43
    },
    {
     "cell_type": "code",
     "collapsed": false,
     "input": [
      "# split panels into two sections based on the flow velocity\n",
      "def split_panels(panels):\n",
      "    # positive velocity defines `top` BL\n",
      "    top = [p for p in panels if p.gamma<=0]      \n",
      "    # negative defines the `bottom`\n",
      "    bottom = [p for p in panels if p.gamma>=0]\n",
      "    # reverse array so panel[0] is stagnation\n",
      "    bottom = bottom[::-1]\n",
      "\n",
      "    return top,bottom"
     ],
     "language": "python",
     "metadata": {},
     "outputs": [],
     "prompt_number": 44
    },
    {
     "cell_type": "code",
     "collapsed": false,
     "input": [
      "# plot panels with labels\n",
      "def plot_segment(panels):\n",
      "    pyplot.figure(figsize=(10,2))\n",
      "    pyplot.axis([-1.2,1.2,-.3,.3])\n",
      "    for i,p_i in enumerate(panels): \n",
      "        p_i.plot()"
     ],
     "language": "python",
     "metadata": {},
     "outputs": [],
     "prompt_number": 45
    },
    {
     "cell_type": "code",
     "collapsed": false,
     "input": [
      "# Pohlhausen Boundary Layer class\n",
      "class Pohlhausen:\n",
      "    def __init__(self,panels,nu):\n",
      "        self.u_e = [abs(p.gamma) for p in panels]   # tangential velocity\n",
      "        self.s = numpy.empty_like(self.u_e)         # initialize distance array\n",
      "        self.s[0] = panels[0].S\n",
      "        for i in range(len(self.s)-1):              # fill distance array\n",
      "            self.s[i+1] = self.s[i]+panels[i].S+panels[i+1].S           \n",
      "        ds = numpy.gradient(self.s)     \n",
      "        self.du_e = numpy.gradient(self.u_e,ds)     # compute velocity gradient\n",
      "\n",
      "        self.nu = nu                                # kinematic viscosity\n",
      "        self.xc = [p.xc for p in panels]            # x and ...\n",
      "        self.yc = [p.yc for p in panels]            # y locations\n",
      "        \n",
      "    def march(self):\n",
      "        # march down the boundary layer until separation\n",
      "        from BoundaryLayer import march\n",
      "        self.delta,self.lam,self.iSep = march(self.s,self.u_e,self.du_e,self.nu)\n",
      "\n",
      "        # interpolate values at the separation point\n",
      "        def sep_interp(y): return numpy.interp(    # interpolate function\n",
      "            12,-self.lam[self.iSep:self.iSep+2],y[self.iSep:self.iSep+2])\n",
      "        self.s_sep = sep_interp(self.s)\n",
      "        self.u_e_sep = sep_interp(self.u_e)\n",
      "        self.x_sep = sep_interp(self.xc)\n",
      "        self.y_sep = sep_interp(self.yc)\n",
      "        self.delta_sep = sep_interp(self.delta)"
     ],
     "language": "python",
     "metadata": {},
     "outputs": [],
     "prompt_number": 46
    },
    {
     "cell_type": "code",
     "collapsed": false,
     "input": [
      "def solve_boundary_layers(panels,alpha=0,nu=1e-5):\n",
      "\n",
      "    # split the panels\n",
      "    top_panels,bottom_panels = split_panels(panels)\n",
      "    \n",
      "    # Set up and solve the top boundary layer\n",
      "    top = Pohlhausen(top_panels,nu)\n",
      "    top.march()\n",
      "\n",
      "    # Set up and solve the bottom boundary layer\n",
      "    bottom = Pohlhausen(bottom_panels,nu)\n",
      "    bottom.march()\n",
      "\n",
      "    return top,bottom"
     ],
     "language": "python",
     "metadata": {},
     "outputs": [],
     "prompt_number": 47
    },
    {
     "cell_type": "code",
     "collapsed": false,
     "input": [
      "def predict_jukowski_separation(t_c,alpha=0,N=128):\n",
      "    # set dx to gets the correct t/c\n",
      "    foil = make_jukowski(N,dx=t_c-0.019)\n",
      "\n",
      "    # find and print t/c\n",
      "    x0 = foil[N/2].xc\n",
      "    c = foil[0].xc-x0\n",
      "    t = 2.*numpy.max([p.yc for p in foil])\n",
      "    # solve potential flow and boundary layer evolution\n",
      "    solve_gamma_kutta(foil,alpha)\n",
      "    top,bottom = solve_boundary_layers(foil,alpha)\n",
      "    return top.x_sep, top.y_sep, top.iSep,bottom.x_sep,bottom.y_sep, bottom.iSep "
     ],
     "language": "python",
     "metadata": {},
     "outputs": [],
     "prompt_number": 48
    },
    {
     "cell_type": "code",
     "collapsed": false,
     "input": [
      "N=128\n",
      "M=100\n",
      "rr=0.15\n",
      "tx = numpy.zeros(M)\n",
      "ty = numpy.zeros(M)\n",
      "bx = numpy.zeros(M)\n",
      "by = numpy.zeros(M)\n",
      "ti = numpy.zeros(M)\n",
      "bi = numpy.zeros(M)\n",
      "for q in range(M):\n",
      "    alpha=alpha_max*q*numpy.pi/180./(M-1)\n",
      "    tx[q], ty[q], ti[q], bx[q], by[q], bi[q]=predict_jukowski_separation(0.15,alpha)\n",
      "    \n"
     ],
     "language": "python",
     "metadata": {},
     "outputs": [],
     "prompt_number": 49
    },
    {
     "cell_type": "code",
     "collapsed": false,
     "input": [
      "foil_top,foil_bottom = split_panels(foil)"
     ],
     "language": "python",
     "metadata": {},
     "outputs": [],
     "prompt_number": 50
    },
    {
     "cell_type": "code",
     "collapsed": false,
     "input": [
      "plot_segment(foil_top)\n",
      "for i in range(M):\n",
      "    if i%20 == 0:\n",
      "        pyplot.scatter(tx[i], ty[i], s=100, c='r')\n",
      "        pyplot.text(tx[i],ty[i]+0.05,'p ['+'%i'% ti+']',fontsize=12)\n"
     ],
     "language": "python",
     "metadata": {},
     "outputs": [
      {
       "ename": "TypeError",
       "evalue": "%d format: a number is required, not numpy.ndarray",
       "output_type": "pyerr",
       "traceback": [
        "\u001b[1;31m---------------------------------------------------------------------------\u001b[0m\n\u001b[1;31mTypeError\u001b[0m                                 Traceback (most recent call last)",
        "\u001b[1;32m<ipython-input-54-2df19b378aa2>\u001b[0m in \u001b[0;36m<module>\u001b[1;34m()\u001b[0m\n\u001b[0;32m      3\u001b[0m     \u001b[1;32mif\u001b[0m \u001b[0mi\u001b[0m\u001b[1;33m%\u001b[0m\u001b[1;36m20\u001b[0m \u001b[1;33m==\u001b[0m \u001b[1;36m0\u001b[0m\u001b[1;33m:\u001b[0m\u001b[1;33m\u001b[0m\u001b[0m\n\u001b[0;32m      4\u001b[0m         \u001b[0mpyplot\u001b[0m\u001b[1;33m.\u001b[0m\u001b[0mscatter\u001b[0m\u001b[1;33m(\u001b[0m\u001b[0mtx\u001b[0m\u001b[1;33m[\u001b[0m\u001b[0mi\u001b[0m\u001b[1;33m]\u001b[0m\u001b[1;33m,\u001b[0m \u001b[0mty\u001b[0m\u001b[1;33m[\u001b[0m\u001b[0mi\u001b[0m\u001b[1;33m]\u001b[0m\u001b[1;33m,\u001b[0m \u001b[0ms\u001b[0m\u001b[1;33m=\u001b[0m\u001b[1;36m100\u001b[0m\u001b[1;33m,\u001b[0m \u001b[0mc\u001b[0m\u001b[1;33m=\u001b[0m\u001b[1;34m'r'\u001b[0m\u001b[1;33m)\u001b[0m\u001b[1;33m\u001b[0m\u001b[0m\n\u001b[1;32m----> 5\u001b[1;33m         \u001b[0mpyplot\u001b[0m\u001b[1;33m.\u001b[0m\u001b[0mtext\u001b[0m\u001b[1;33m(\u001b[0m\u001b[0mtx\u001b[0m\u001b[1;33m[\u001b[0m\u001b[0mi\u001b[0m\u001b[1;33m]\u001b[0m\u001b[1;33m,\u001b[0m\u001b[0mty\u001b[0m\u001b[1;33m[\u001b[0m\u001b[0mi\u001b[0m\u001b[1;33m]\u001b[0m\u001b[1;33m+\u001b[0m\u001b[1;36m0.05\u001b[0m\u001b[1;33m,\u001b[0m\u001b[1;34m'p ['\u001b[0m\u001b[1;33m+\u001b[0m\u001b[1;34m'%i'\u001b[0m\u001b[1;33m%\u001b[0m\u001b[0mti\u001b[0m\u001b[1;33m+\u001b[0m\u001b[1;34m']'\u001b[0m\u001b[1;33m,\u001b[0m\u001b[0mfontsize\u001b[0m\u001b[1;33m=\u001b[0m\u001b[1;36m12\u001b[0m\u001b[1;33m)\u001b[0m\u001b[1;33m\u001b[0m\u001b[0m\n\u001b[0m",
        "\u001b[1;31mTypeError\u001b[0m: %d format: a number is required, not numpy.ndarray"
       ]
      },
      {
       "metadata": {},
       "output_type": "display_data",
       "png": "[encoded data removed]",
       "text": [
        "<matplotlib.figure.Figure at 0xba75ba8>"
       ]
      }
     ],
     "prompt_number": 54
    },
    {
     "cell_type": "code",
     "collapsed": false,
     "input": [],
     "language": "python",
     "metadata": {},
     "outputs": []
    },
    {
     "cell_type": "code",
     "collapsed": false,
     "input": [
      "pyplot.plot(numpy.linspace(0,alpha_max,M),ti)"
     ],
     "language": "python",
     "metadata": {},
     "outputs": []
    },
    {
     "cell_type": "code",
     "collapsed": false,
     "input": [
      "plot_segment(foil_bottom)\n",
      "pyplot.scatter(bx, by, s=100, c='b')"
     ],
     "language": "python",
     "metadata": {},
     "outputs": []
    },
    {
     "cell_type": "code",
     "collapsed": false,
     "input": [
      "pyplot.plot(numpy.linspace(0,alpha_max,M),bi)\n"
     ],
     "language": "python",
     "metadata": {},
     "outputs": []
    },
    {
     "cell_type": "markdown",
     "metadata": {},
     "source": [
      "## Point-forward Wedge\n",
      "\n",
      "The geometry is a wedge with the point facing forward into the flow and with tip-to-tail distance $c$ and thickenss $t$. You can alter the polynomial equation from the `Vortex Panel Method` notebook, or write your own routine to define the geometry. \n",
      "\n",
      "---\n",
      "\n",
      "##### Assignment\n",
      "\n",
      "Compute the friction drag coefficients $C_F$ for $t/c=1,1/2,1/4,1/8$ using $N=128$ panels, and compare to the flat plate solution."
     ]
    },
    {
     "cell_type": "code",
     "collapsed": false,
     "input": [
      "def make_wedge(t,c):\n",
      "    N_panels=3\n",
      "    theta_ends=[numpy.pi, numpy.pi/2*3, numpy.pi/2*5, numpy.pi*3]\n",
      "    r=[1, t/c/2, t/c/2, 1]\n",
      "    x_ends=(numpy.cos(theta_ends)*r+0.5)\n",
      "    y_ends=(numpy.sin(theta_ends)*r)\n",
      "\n",
      "    wedge = numpy.empty(N_panels, dtype=object)\n",
      "    for i in range(N_panels):\n",
      "        wedge[i] = Panel(x_ends[i], y_ends[i], x_ends[i+1], y_ends[i+1])\n",
      "    return wedge"
     ],
     "language": "python",
     "metadata": {},
     "outputs": [],
     "prompt_number": 69
    },
    {
     "cell_type": "code",
     "collapsed": false,
     "input": [
      "wedge=make_wedge(1.,1,4)\n",
      "solve_gamma(wedge)\n",
      "plot_flow(wedge)"
     ],
     "language": "python",
     "metadata": {},
     "outputs": [
      {
       "ename": "IndexError",
       "evalue": "index out of bounds",
       "output_type": "pyerr",
       "traceback": [
        "\u001b[1;31m---------------------------------------------------------------------------\u001b[0m\n\u001b[1;31mIndexError\u001b[0m                                Traceback (most recent call last)",
        "\u001b[1;32m<ipython-input-70-2149607a6a52>\u001b[0m in \u001b[0;36m<module>\u001b[1;34m()\u001b[0m\n\u001b[1;32m----> 1\u001b[1;33m \u001b[0mwedge\u001b[0m\u001b[1;33m=\u001b[0m\u001b[0mmake_wedge\u001b[0m\u001b[1;33m(\u001b[0m\u001b[1;36m1.\u001b[0m\u001b[1;33m,\u001b[0m\u001b[1;36m1\u001b[0m\u001b[1;33m,\u001b[0m\u001b[1;36m4\u001b[0m\u001b[1;33m)\u001b[0m\u001b[1;33m\u001b[0m\u001b[0m\n\u001b[0m\u001b[0;32m      2\u001b[0m \u001b[0msolve_gamma\u001b[0m\u001b[1;33m(\u001b[0m\u001b[0mwedge\u001b[0m\u001b[1;33m)\u001b[0m\u001b[1;33m\u001b[0m\u001b[0m\n\u001b[0;32m      3\u001b[0m \u001b[0mplot_flow\u001b[0m\u001b[1;33m(\u001b[0m\u001b[0mwedge\u001b[0m\u001b[1;33m)\u001b[0m\u001b[1;33m\u001b[0m\u001b[0m\n",
        "\u001b[1;32m<ipython-input-69-a8258be4c946>\u001b[0m in \u001b[0;36mmake_wedge\u001b[1;34m(t, c, N_panels)\u001b[0m\n\u001b[0;32m      7\u001b[0m     \u001b[0mwedge\u001b[0m \u001b[1;33m=\u001b[0m \u001b[0mnumpy\u001b[0m\u001b[1;33m.\u001b[0m\u001b[0mempty\u001b[0m\u001b[1;33m(\u001b[0m\u001b[0mN_panels\u001b[0m\u001b[1;33m,\u001b[0m \u001b[0mdtype\u001b[0m\u001b[1;33m=\u001b[0m\u001b[0mobject\u001b[0m\u001b[1;33m)\u001b[0m\u001b[1;33m\u001b[0m\u001b[0m\n\u001b[0;32m      8\u001b[0m     \u001b[1;32mfor\u001b[0m \u001b[0mi\u001b[0m \u001b[1;32min\u001b[0m \u001b[0mrange\u001b[0m\u001b[1;33m(\u001b[0m\u001b[0mN_panels\u001b[0m\u001b[1;33m)\u001b[0m\u001b[1;33m:\u001b[0m\u001b[1;33m\u001b[0m\u001b[0m\n\u001b[1;32m----> 9\u001b[1;33m         \u001b[0mwedge\u001b[0m\u001b[1;33m[\u001b[0m\u001b[0mi\u001b[0m\u001b[1;33m]\u001b[0m \u001b[1;33m=\u001b[0m \u001b[0mPanel\u001b[0m\u001b[1;33m(\u001b[0m\u001b[0mx_ends\u001b[0m\u001b[1;33m[\u001b[0m\u001b[0mi\u001b[0m\u001b[1;33m]\u001b[0m\u001b[1;33m,\u001b[0m \u001b[0my_ends\u001b[0m\u001b[1;33m[\u001b[0m\u001b[0mi\u001b[0m\u001b[1;33m]\u001b[0m\u001b[1;33m,\u001b[0m \u001b[0mx_ends\u001b[0m\u001b[1;33m[\u001b[0m\u001b[0mi\u001b[0m\u001b[1;33m+\u001b[0m\u001b[1;36m1\u001b[0m\u001b[1;33m]\u001b[0m\u001b[1;33m,\u001b[0m \u001b[0my_ends\u001b[0m\u001b[1;33m[\u001b[0m\u001b[0mi\u001b[0m\u001b[1;33m+\u001b[0m\u001b[1;36m1\u001b[0m\u001b[1;33m]\u001b[0m\u001b[1;33m)\u001b[0m\u001b[1;33m\u001b[0m\u001b[0m\n\u001b[0m\u001b[0;32m     10\u001b[0m     \u001b[1;32mreturn\u001b[0m \u001b[0mwedge\u001b[0m\u001b[1;33m\u001b[0m\u001b[0m\n",
        "\u001b[1;31mIndexError\u001b[0m: index out of bounds"
       ]
      }
     ],
     "prompt_number": 70
    },
    {
     "cell_type": "code",
     "collapsed": false,
     "input": [
      "t=1.\n",
      "c=2.\n",
      "\n",
      "N_panels=3\n",
      "theta_ends=[numpy.pi, numpy.pi/2*3, numpy.pi/2*5, numpy.pi*3]\n",
      "r=[1, t/c/2, t/c/2, 1]\n",
      "x_ends=numpy.cos(theta_ends)*r+0.5\n",
      "y_ends=numpy.sin(theta_ends)*r\n",
      "\n",
      "wedge = numpy.empty(N_panels, dtype=object)\n",
      "for i in range(N_panels):\n",
      "    wedge[i] = Panel(x_ends[i], y_ends[i], x_ends[i+1], y_ends[i+1])"
     ],
     "language": "python",
     "metadata": {},
     "outputs": [],
     "prompt_number": 57
    },
    {
     "cell_type": "code",
     "collapsed": false,
     "input": [
      "y_ends"
     ],
     "language": "python",
     "metadata": {},
     "outputs": []
    },
    {
     "cell_type": "code",
     "collapsed": false,
     "input": [],
     "language": "python",
     "metadata": {},
     "outputs": []
    }
   ],
   "metadata": {}
  }
 ]
}