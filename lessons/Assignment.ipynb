{
 "metadata": {
  "name": "",
  "signature": "sha256:417102ad9e871f245f0d52cc0278dd8c179de4c96428f4680641dc7a520942d6"
 },
 "nbformat": 3,
 "nbformat_minor": 0,
 "worksheets": [
  {
   "cells": [
    {
     "cell_type": "markdown",
     "metadata": {},
     "source": [
      "# Numerical Hydrodynamics Assignment"
     ]
    },
    {
     "cell_type": "markdown",
     "metadata": {},
     "source": [
      "## Force prediction on three geometries\n",
      "\n",
      "The assignment is to use numerical methods to generate pressure and friction force predictions for the laminar flow around three geometries:\n",
      "\n",
      "1. A circular cylinder,\n",
      "1. A jukowski foil with $t/c=0.15$, and \n",
      "1. A **mystery** geometry which will be assigned individually.\n",
      "\n",
      "Specifically, for the circular cylinder you will:\n",
      "- Compute the pressure coefficient $c_p$ on the surface for three resolutions $N=32,64,128$, and compare the results to the exact potential flow solution.\n",
      "- Compute the friction drag coefficient $C_F$, and an estimate for the pressure drag coefficient $C_D$ for the same three resolutions at $Re_D=10^5$. \n",
      "\n",
      "For the jukowski foil you will:\n",
      "- Compute the lift coefficient $C_L$ as a function of the angle of attack $\\alpha\\le 10^o$ for three resolutions $N=32,64,128$, and and compare the results to the exact potential flow solution.\n",
      "- Compute the separation point location on either side of the foil for the same angle of attack range for $N=128$.\n",
      "\n",
      "The **mystery** geometry will require a similar computation. Correct results for this geometry will demonstrate independent excellence and will be marked accordingly."
     ]
    },
    {
     "cell_type": "markdown",
     "metadata": {},
     "source": [
      "## Submission requirements\n",
      "\n",
      "The project will be submitted in the form of an iPython notebook, like this one. This means your report will be a [reproducible scientific document](http://www.nature.com/news/interactive-notebooks-sharing-the-code-1.16261); all of your results will be generated and displayed inside the document itself. \n",
      "\n",
      "You may use the code in the `VortexPanel.py` and `BoundaryLayer.py` files, but all other code must be embedded in the notebook itself. All results must be generated in the notebook and be publication quality; axis labeled, plot legends included, etc.\n",
      "\n",
      "Your report should follow the standard format, with a short *Introduction* and *Conclusion*, and a short *Method*, *Results*, and *Discussion* section for each geometry. **Please keep the text brief and to the point**. In particular, do not explain how `VortexPanel.py` and `BoundaryLayer.py` work - explain how *your* code works. What method did *you* use? What do *your* results mean?\n",
      "\n",
      "Submit the report by email to me directly with the subject `SESS 3023 report: <your student ID>`."
     ]
    },
    {
     "cell_type": "markdown",
     "metadata": {},
     "source": [
      "## iPython help\n",
      "\n",
      "The text in iPython notebooks is written in [Markdown](https://help.github.com/articles/markdown-basics/), which is extremely simple to use. The best part is that it let's you embed latex-style equations like this\n",
      "\n",
      "$$ a \\rightarrow b $$\n",
      "\n",
      "without latex installed. The worst part is that spell-checking doesn't work automatically. You can copy-paste into a text editor, or try [installing a spell checker](https://github.com/ipython-contrib/IPython-notebook-extensions/wiki/aspell). \n",
      "\n",
      "Please avoid embedding images in your report since it would require sending additional files and the path information might be corrupted.\n",
      "\n",
      "\n",
      "---\n",
      "\n",
      "In the course you will become familiar with how code blocks work:"
     ]
    },
    {
     "cell_type": "code",
     "collapsed": false,
     "input": [
      "a=4\n",
      "a+=2\n",
      "print a"
     ],
     "language": "python",
     "metadata": {},
     "outputs": [
      {
       "output_type": "stream",
       "stream": "stdout",
       "text": [
        "6\n"
       ]
      }
     ],
     "prompt_number": 1
    },
    {
     "cell_type": "markdown",
     "metadata": {},
     "source": [
      "but my #1 tip is: **Make sure to restart the kernel and `Run all` cells in the notebook frequently.** That will avoid unpleasant surprises and ensure that the document you submit will work as you intend it to.\n",
      "\n",
      "---\n",
      "\n",
      "I'll add more tips to this document and post announcements as common problems present themselves."
     ]
    },
    {
     "cell_type": "markdown",
     "metadata": {},
     "source": [
      "---\n",
      "Ignore the line below - it just loads the style sheet."
     ]
    },
    {
     "cell_type": "code",
     "collapsed": false,
     "input": [
      "from IPython.core.display import HTML\n",
      "def css_styling():\n",
      "    styles = open('../styles/custom.css', 'r').read()\n",
      "    return HTML(styles)\n",
      "css_styling()"
     ],
     "language": "python",
     "metadata": {},
     "outputs": [
      {
       "html": [
        "<link href='http://fonts.googleapis.com/css?family=Fenix' rel='stylesheet' type='text/css'>\n",
        "<link href='http://fonts.googleapis.com/css?family=Alegreya+Sans:100,300,400,500,700,800,900,100italic,300italic,400italic,500italic,700italic,800italic,900italic' rel='stylesheet' type='text/css'>\n",
        "<link href='http://fonts.googleapis.com/css?family=Source+Code+Pro:300,400' rel='stylesheet' type='text/css'>\n",
        "<style>\n",
        "    @font-face {\n",
        "        font-family: \"Computer Modern\";\n",
        "        src: url('http://mirrors.ctan.org/fonts/cm-unicode/fonts/otf/cmunss.otf');\n",
        "    }\n",
        "    div.cell{\n",
        "        width:800px;\n",
        "        margin-left:16% !important;\n",
        "        margin-right:auto;\n",
        "    }\n",
        "    h1 {\n",
        "        font-family: 'Alegreya Sans', sans-serif;\n",
        "    }\n",
        "    h2 {\n",
        "        font-family: 'Fenix', serif;\n",
        "    }\n",
        "    h3{\n",
        "\t\tfont-family: 'Fenix', serif;\n",
        "        margin-top:12px;\n",
        "        margin-bottom: 3px;\n",
        "       }\n",
        "\th4{\n",
        "\t\tfont-family: 'Fenix', serif;\n",
        "       }\n",
        "    h5 {\n",
        "        font-family: 'Alegreya Sans', sans-serif;\n",
        "    }\t   \n",
        "    div.text_cell_render{\n",
        "        font-family: 'Alegreya Sans',Computer Modern, \"Helvetica Neue\", Arial, Helvetica, Geneva, sans-serif;\n",
        "        line-height: 135%;\n",
        "        font-size: 120%;\n",
        "        width:600px;\n",
        "        margin-left:auto;\n",
        "        margin-right:auto;\n",
        "    }\n",
        "    .CodeMirror{\n",
        "            font-family: \"Source Code Pro\";\n",
        "\t\t\tfont-size: 90%;\n",
        "    }\n",
        "/*    .prompt{\n",
        "        display: None;\n",
        "    }*/\n",
        "    .text_cell_render h1 {\n",
        "        font-weight: 200;\n",
        "        font-size: 50pt;\n",
        "\t\tline-height: 100%;\n",
        "        color:#CD2305;\n",
        "        margin-bottom: 0.5em;\n",
        "        margin-top: 0.5em;\n",
        "        display: block;\n",
        "    }\t\n",
        "    .text_cell_render h5 {\n",
        "        font-weight: 300;\n",
        "        font-size: 16pt;\n",
        "        color: #CD2305;\n",
        "        font-style: italic;\n",
        "        margin-bottom: .5em;\n",
        "        margin-top: 0.5em;\n",
        "        display: block;\n",
        "    }\n",
        "    \n",
        "    .warning{\n",
        "        color: rgb( 240, 20, 20 )\n",
        "        }  \n",
        "</style>\n",
        "<script>\n",
        "    MathJax.Hub.Config({\n",
        "                        TeX: {\n",
        "                           extensions: [\"AMSmath.js\"], \n",
        "                           equationNumbers: { autoNumber: \"AMS\", useLabelIds: true}\n",
        "                           },\n",
        "                tex2jax: {\n",
        "                    inlineMath: [ ['$','$'], [\"\\\\(\",\"\\\\)\"] ],\n",
        "                    displayMath: [ ['$$','$$'], [\"\\\\[\",\"\\\\]\"] ]\n",
        "                },\n",
        "                displayAlign: 'center', // Change this to 'center' to center equations.\n",
        "                \"HTML-CSS\": {\n",
        "                    styles: {'.MathJax_Display': {\"margin\": 4}}\n",
        "                }\n",
        "        });\n",
        "</script>\n"
       ],
       "metadata": {},
       "output_type": "pyout",
       "prompt_number": 2,
       "text": [
        "<IPython.core.display.HTML at 0x101dc0bd0>"
       ]
      }
     ],
     "prompt_number": 2
    }
   ],
   "metadata": {}
  }
 ]
}
