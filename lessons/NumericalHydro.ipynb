{
 "metadata": {
  "celltoolbar": "Raw Cell Format",
  "name": "",
  "signature": "sha256:3ab25ff123b2169d264b663316a9096a05eb2002a65275cfc1707ce9ea4af4c8"
 },
 "nbformat": 3,
 "nbformat_minor": 0,
 "worksheets": [
  {
   "cells": [
    {
     "cell_type": "markdown",
     "metadata": {},
     "source": [
      "# Numercial Hydrodynamics --Yongxin Chen  26678357"
     ]
    },
    {
     "cell_type": "heading",
     "level": 2,
     "metadata": {},
     "source": [
      "0. Introduction:"
     ]
    },
    {
     "cell_type": "markdown",
     "metadata": {},
     "source": [
      "In this report, force predictions on three geometries (cylinder, Jukowski foil and NACA foil) are computed respectively. To simplify questions, some previous codes such as *Panel* class and boundary solver are implemented. For some specific questions, new functions are created. Moreover, necessary disscussions are also shown behind some results. I used some different methods which were taught in the class."
     ]
    },
    {
     "cell_type": "markdown",
     "metadata": {},
     "source": [
      "## 1. A circular cylinder"
     ]
    },
    {
     "cell_type": "markdown",
     "metadata": {},
     "source": [
      "### 1.1 Pressure coefficient\n",
      "For a 2D incompressible flow, the Bernoulli's equation can be written below:\n",
      "\n",
      "<center>$\\dfrac{1}{2}v^2+gz+\\dfrac{p}{\\rho}=constant$</center>\n",
      "\n",
      "Assuming the infinite pressure is $P_{\\infty}$ and local pressure is $P_{l}$. So the equation can be rewritten below:\n",
      "\n",
      "<center>$p_l-p_\\infty=\\dfrac{1}{2}(v_\\infty^2-v_{l}^2)$</center>\n",
      "\n",
      "The pressure coefficient is defined:\n",
      "\n",
      "<center>$C_P=\\dfrac{p_l-p_\\infty}{\\frac{1}{2}\\rho_\\infty V_\\infty^2}=1-(\\dfrac{v_l}{v_\\infty})^2$</center>\n",
      "\n",
      "The difference between $p_l$ and $p_\\infty$ is determined by vortex panel method method simply:\n",
      "\n",
      "<center>$p_l-p_\\infty=\\dfrac{1}{2}\\rho(v_\\infty^2-v_i^2)$</center>\n",
      "\n",
      "So the pressure coefficient is:\n",
      "\n",
      "<center>$C_P=1-\\left(\\dfrac{v_i}{v_\\infty}\\right)^2$</center>\n",
      "\n",
      "First of all, import ingredients."
     ]
    },
    {
     "cell_type": "code",
     "collapsed": false,
     "input": [
      "import numpy\n",
      "from matplotlib import pyplot\n",
      "from VortexPanel import Panel,plot_flow, flow_velocity\n",
      "from LiftBody import solve_gamma_kutta, make_jukowski"
     ],
     "language": "python",
     "metadata": {},
     "outputs": [
      {
       "ename": "ImportError",
       "evalue": "cannot import name flow_velocity",
       "output_type": "pyerr",
       "traceback": [
        "\u001b[1;31m---------------------------------------------------------------------------\u001b[0m\n\u001b[1;31mImportError\u001b[0m                               Traceback (most recent call last)",
        "\u001b[1;32m<ipython-input-2-cc2a21ec262b>\u001b[0m in \u001b[0;36m<module>\u001b[1;34m()\u001b[0m\n\u001b[0;32m      1\u001b[0m \u001b[1;32mimport\u001b[0m \u001b[0mnumpy\u001b[0m\u001b[1;33m\u001b[0m\u001b[0m\n\u001b[0;32m      2\u001b[0m \u001b[1;32mfrom\u001b[0m \u001b[0mmatplotlib\u001b[0m \u001b[1;32mimport\u001b[0m \u001b[0mpyplot\u001b[0m\u001b[1;33m\u001b[0m\u001b[0m\n\u001b[1;32m----> 3\u001b[1;33m \u001b[1;32mfrom\u001b[0m \u001b[0mVortexPanel\u001b[0m \u001b[1;32mimport\u001b[0m \u001b[0mPanel\u001b[0m\u001b[1;33m,\u001b[0m\u001b[0mplot_flow\u001b[0m\u001b[1;33m,\u001b[0m \u001b[0mflow_velocity\u001b[0m\u001b[1;33m\u001b[0m\u001b[0m\n\u001b[0m\u001b[0;32m      4\u001b[0m \u001b[1;32mfrom\u001b[0m \u001b[0mLiftBody\u001b[0m \u001b[1;32mimport\u001b[0m \u001b[0msolve_gamma_kutta\u001b[0m\u001b[1;33m,\u001b[0m \u001b[0mmake_jukowski\u001b[0m\u001b[1;33m\u001b[0m\u001b[0m\n",
        "\u001b[1;31mImportError\u001b[0m: cannot import name flow_velocity"
       ]
      }
     ],
     "prompt_number": 2
    },
    {
     "cell_type": "markdown",
     "metadata": {},
     "source": [
      "Here, in order to compare numerical result with exact potential flow solution, I create a new circle making function beginning with $\\theta$ from $\\pi$ to $-\\pi$."
     ]
    },
    {
     "cell_type": "code",
     "collapsed": false,
     "input": [
      "def new_make_circle(N):\n",
      "    # define the end-points of the panels\n",
      "    x_ends = numpy.cos(numpy.linspace(numpy.pi, -numpy.pi, N+1))\n",
      "    y_ends = numpy.sin(numpy.linspace(numpy.pi, -numpy.pi, N+1))\n",
      "\n",
      "    # define the panels\n",
      "    circle = numpy.empty(N, dtype=object)\n",
      "    for i in xrange(N):\n",
      "        circle[i] = Panel(x_ends[i], y_ends[i], x_ends[i+1], y_ends[i+1])\n",
      "\n",
      "    return circle"
     ],
     "language": "python",
     "metadata": {},
     "outputs": []
    },
    {
     "cell_type": "markdown",
     "metadata": {},
     "source": [
      "Get the exact potential flow solution."
     ]
    },
    {
     "cell_type": "code",
     "collapsed": false,
     "input": [
      "# get the exact potential flow solution. C_P against theta\n",
      "def potential_flow_solution():\n",
      "    theta = numpy.linspace(0,numpy.pi,180)\n",
      "    C_P = 1-4*numpy.sin(theta)**2\n",
      "    pyplot.figure(figsize=(8,6))\n",
      "    pyplot.ylabel(\"$C_P$\",fontsize=16)\n",
      "    pyplot.xlabel(r'$\\theta(rad)$',fontsize=16)\n",
      "    pyplot.plot(theta,C_P,lw=2, c='k', label=r'$C_P$')\n",
      "    pyplot.legend(loc='lower right')"
     ],
     "language": "python",
     "metadata": {},
     "outputs": []
    },
    {
     "cell_type": "code",
     "collapsed": false,
     "input": [
      "potential_flow_solution()"
     ],
     "language": "python",
     "metadata": {},
     "outputs": []
    },
    {
     "cell_type": "markdown",
     "metadata": {},
     "source": [
      "Now, use the fomula $C_P=1-\\left(\\dfrac{v_i}{v_\\infty}\\right)^2$ to get the velocity at each point along the surface. Here, I did not use vortex strength $\\gamma$ method to get velocity. The code is below."
     ]
    },
    {
     "cell_type": "code",
     "collapsed": false,
     "input": [
      "#first of all, define the coordinate of circle, then use these coordinates to find the velocity.\n",
      "#directly use flow_velocity to find the velocity along the surface\n",
      "\n",
      "def pressure(panels):\n",
      "    x = numpy.array([p.xc for p in panels])\n",
      "    y = numpy.array([p.yc for p in panels])\n",
      "    u,v = flow_velocity(panels,x,y)    \n",
      "    return 1-u**2-v**2 "
     ],
     "language": "python",
     "metadata": {},
     "outputs": []
    },
    {
     "cell_type": "markdown",
     "metadata": {},
     "source": [
      "Here, I create a pressure coefficient plotting function to see the pressure coefficient distribution against the angle $\\theta$."
     ]
    },
    {
     "cell_type": "code",
     "collapsed": false,
     "input": [
      "# define pressure coefficient plotting function\n",
      "def CPplot(panels):\n",
      "    theta = numpy.linspace(0,2*numpy.pi,len(panels))\n",
      "    pyplot.figure(figsize=(8,6))\n",
      "    pyplot.ylabel(\"$C_P$\",fontsize=16)\n",
      "    pyplot.xlabel(r'$\\theta(rad)$',fontsize=16)\n",
      "    pyplot.plot(theta[0:len(theta)/2],pressure(panels)[0:len(panels)/2],lw=2, c='g', label=r'$C_P$')\n",
      "    pyplot.legend(loc='lower right')"
     ],
     "language": "python",
     "metadata": {},
     "outputs": []
    },
    {
     "cell_type": "markdown",
     "metadata": {},
     "source": [
      "Now, define a new circular cylinder with 32 vortex panels to test the previous code."
     ]
    },
    {
     "cell_type": "code",
     "collapsed": false,
     "input": [
      "circle = new_make_circle(32)\n",
      "solve_gamma_kutta(circle)\n",
      "CPplot(circle)"
     ],
     "language": "python",
     "metadata": {},
     "outputs": []
    },
    {
     "cell_type": "markdown",
     "metadata": {},
     "source": [
      "Now, let's define circle with 32, 64, 128 vortex panels to compare the numerical result with exact potential flow value."
     ]
    },
    {
     "cell_type": "code",
     "collapsed": false,
     "input": [
      "# define 3 different resolutions of circular cylinders and plot in the same figure.\n",
      "circle32 = new_make_circle(32)\n",
      "solve_gamma_kutta(circle32)\n",
      "\n",
      "circle64 = new_make_circle(64)\n",
      "solve_gamma_kutta(circle64)\n",
      "\n",
      "circle128 = new_make_circle(128)\n",
      "solve_gamma_kutta(circle128)\n",
      "\n",
      "pyplot.figure(figsize=(8,6))\n",
      "pyplot.ylabel(r\"$C_P$\",fontsize=16)\n",
      "pyplot.xlabel(r'$\\theta$',fontsize=16)\n",
      "# Notice the theta value and number here should changed following CPplot function \n",
      "# because the range of theta in the figure is from 0 to pi\n",
      "pyplot.plot(numpy.linspace(0,2*numpy.pi,len(circle32))[0:len(circle32)/2],pressure(circle32)[0:len(circle32)/2],lw=2, c='c', label='$C_P--32$')\n",
      "pyplot.plot(numpy.linspace(0,2*numpy.pi,len(circle64))[0:len(circle64)/2],pressure(circle64)[0:len(circle64)/2],lw=2, c='b', label='$C_P--64$')\n",
      "pyplot.plot(numpy.linspace(0,2*numpy.pi,len(circle128))[0:len(circle128)/2],pressure(circle128)[0:len(circle128)/2],lw=2, c='r', label='$C_P--128$')\n",
      "pyplot.plot(numpy.linspace(0,numpy.pi,180),1-4*numpy.sin(numpy.linspace(0,numpy.pi,180))**2,lw=2, c='k', label='$C_P--exact$')\n",
      "pyplot.legend(loc='lower right')"
     ],
     "language": "python",
     "metadata": {},
     "outputs": []
    },
    {
     "cell_type": "markdown",
     "metadata": {},
     "source": [
      "Discussion: As can be seen from the above figure, when the resolution increases, the pressure coefficient is closer to the exact potential flow value, which as expectation."
     ]
    },
    {
     "cell_type": "markdown",
     "metadata": {},
     "source": [
      "### 1.2 Frictional coefficient"
     ]
    },
    {
     "cell_type": "markdown",
     "metadata": {},
     "source": [
      "Compute the friction drag coefficient $C_F$. $C_F=\\dfrac{D}{\\frac{1}{2}\\rho u_e^2 S}$ is used, where $D$ is drag force and $D = \\int \\tau_\\omega s_x ds$. $\\tau_\\omega$ is wall shear stress. $\\tau_\\omega$ can be computed as below.\n",
      "\n",
      "<center>$\\tau_\\omega=\\dfrac{\\mu u_e}{\\delta}f'(0)$</center>\n",
      "\n",
      "The velocity along the surface of cylinder is $v_\\theta = 2 sin(\\theta)$ where assuming background flow velocity is $1m/s$ and the radius of cylinder is 1. So $f'(0)=v'_\\theta=2 cos(\\theta)$. The key point to solve wall shear stress or friction coefficient is to calculate the thickness of boundary layer $\\delta$.\n",
      "\n",
      "Using Pohlhausen momentum equation, we can get the form like Boundary Layer Solver lesson mentioned.\n",
      "\n",
      "<center>$\\delta'=\\dfrac{g_1(\\lambda)}{Re_\\delta F(\\lambda)}$</center>\n",
      "\n",
      "Where $F = \\dfrac{\\delta_2}{\\delta}$. This ODE with the initial value of $\\delta_0=\\sqrt{\\dfrac{\\nu \\lambda_0}{u'_e(x_0)}}$. $\\lambda_0 = 7.05232310118$.  \n"
     ]
    },
    {
     "cell_type": "markdown",
     "metadata": {},
     "source": [
      "Similarly, import useful ingredients."
     ]
    },
    {
     "cell_type": "code",
     "collapsed": false,
     "input": [
      "from BoundaryLayer import ddx_delta, heun, g_pohl, g_1, df_0, march\n",
      "lam0 = 7.05232310118"
     ],
     "language": "python",
     "metadata": {},
     "outputs": [],
     "prompt_number": 5
    },
    {
     "cell_type": "markdown",
     "metadata": {},
     "source": [
      "Then, define needed funtions. The function *half_c_f* defines the frictional coefficient:   $\\dfrac{1}{2} C_f=\\dfrac{f'\n",
      "(0)}{Re_\\delta}$.\n",
      "*tau_w* function defines wall shear stress by specific $\\lambda$, $\\nu$, $\\delta$ and $u_e$ values. Moreover, the drag value is defined by *drag* function. Here, I wrote two kinds of return values, i.e. trapezoid integration method and rectangular integration method. The results are slightly different and I will show the difference below."
     ]
    },
    {
     "cell_type": "code",
     "collapsed": false,
     "input": [
      "def half_c_f(lam, nu, delta, u_e):\n",
      "    Re_d = delta*u_e/nu\n",
      "    return df_0(lam)/Re_d\n",
      "    \n",
      "\n",
      "def tau_w(lam, nu, delta, u_e):\n",
      "    if u_e == 0: return 0\n",
      "    return half_c_f(lam, nu, delta, u_e)*u_e**2\n",
      "\n",
      "def drag(tau, sx, N):\n",
      "    #return numpy.sum(tau[:iSep+1]*sx*numpy.pi/(N-1))\n",
      "    return numpy.trapz(tau[:iSep+1]*sx, dx = numpy.pi/(N-1))"
     ],
     "language": "python",
     "metadata": {},
     "outputs": [],
     "prompt_number": 6
    },
    {
     "cell_type": "markdown",
     "metadata": {},
     "source": [
      "With resolution N, so the interval number should be N-1. Then, begin calculation. Initialization."
     ]
    },
    {
     "cell_type": "code",
     "collapsed": false,
     "input": [
      "nu = 1e-5                                   # viscosity, based on Reynolds number, nu = UR/Re\n",
      "N = 128                                      # number of steps\n",
      "s = numpy.linspace(0,numpy.pi,N)            # distance goes from 0..pi\n",
      "u_e = 2.*numpy.sin(s)                       # velocity\n",
      "du_e = 2.*numpy.cos(s)                      # gradient\n",
      "delta, lam, iSep = march(s,u_e,du_e,nu)     # solve!"
     ],
     "language": "python",
     "metadata": {},
     "outputs": [],
     "prompt_number": 7
    },
    {
     "cell_type": "markdown",
     "metadata": {},
     "source": [
      "After the initialization, then compute wall shear stress $\\tau_w$. Notice, not only the number of $\\tau_w$ values, but also the number of *sx* values which are the $sin(s)$ are iSep, i.e. from 0 to iSep."
     ]
    },
    {
     "cell_type": "code",
     "collapsed": false,
     "input": [],
     "language": "python",
     "metadata": {},
     "outputs": [],
     "prompt_number": 7
    },
    {
     "cell_type": "code",
     "collapsed": false,
     "input": [
      "tau = numpy.full_like(delta, 0)\n",
      "tau = [tau_w(lam[i], nu, delta[i], u_e[i]) for i in range(N)]\n",
      "sx = numpy.sin(s[0:iSep+1])"
     ],
     "language": "python",
     "metadata": {},
     "outputs": [],
     "prompt_number": 8
    },
    {
     "cell_type": "markdown",
     "metadata": {},
     "source": [
      "Notice: We just only compute half body, so in the end, we need to times 2 to get the whole cylinder's friction"
     ]
    },
    {
     "cell_type": "code",
     "collapsed": false,
     "input": [
      "C_F_circle = 2*drag(tau, sx, N)/numpy.pi\n",
      "print ('Circle frictional coefficient = ' + '%0.2e' %C_F_circle)\n",
      "\n",
      "C_F_flat = 1.33 * numpy.sqrt(nu/numpy.pi)\n",
      "print(\"Flate plate: \"+'%0.2e' %C_F_flat)\n",
      "\n",
      "s_x = numpy.sin(s)\n",
      "pyplot.plot(s, tau*s_x)\n",
      "pyplot.scatter(s[iSep], tau[iSep]*s_x[iSep])\n",
      "pyplot.xlabel('$s$',size=20)\n",
      "pyplot.ylabel(r'$\\tau_w s_x$', size=20)"
     ],
     "language": "python",
     "metadata": {},
     "outputs": [
      {
       "output_type": "stream",
       "stream": "stdout",
       "text": [
        "Circle frictional coefficient = 4.07e-03\n",
        "Flate plate: 2.37e-03\n"
       ]
      },
      {
       "metadata": {},
       "output_type": "pyout",
       "prompt_number": 9,
       "text": [
        "<matplotlib.text.Text at 0xabe0470>"
       ]
      }
     ],
     "prompt_number": 9
    },
    {
     "cell_type": "code",
     "collapsed": false,
     "input": [
      "tau*s_x"
     ],
     "language": "python",
     "metadata": {},
     "outputs": [
      {
       "metadata": {},
       "output_type": "pyout",
       "prompt_number": 17,
       "text": [
        "array([  0.00000000e+00,   6.54182738e-06,   2.61391645e-05,\n",
        "         5.87137612e-05,   1.04132088e-04,   1.62206399e-04,\n",
        "         2.32697344e-04,   3.15314532e-04,   4.09717442e-04,\n",
        "         5.15516673e-04,   6.32275395e-04,   7.59511009e-04,\n",
        "         8.96696962e-04,   1.04326474e-03,   1.19860601e-03,\n",
        "         1.36207491e-03,   1.53299051e-03,   1.71063935e-03,\n",
        "         1.89427813e-03,   2.08313652e-03,   2.27642004e-03,\n",
        "         2.47331308e-03,   2.67298191e-03,   2.87457785e-03,\n",
        "         3.07724042e-03,   3.28010058e-03,   3.48228394e-03,\n",
        "         3.68291408e-03,   3.88111572e-03,   4.07601807e-03,\n",
        "         4.26675795e-03,   4.45248307e-03,   4.63235510e-03,\n",
        "         4.80555273e-03,   4.97127473e-03,   5.12874278e-03,\n",
        "         5.27720432e-03,   5.41593519e-03,   5.54424224e-03,\n",
        "         5.66146570e-03,   5.76698150e-03,   5.86020334e-03,\n",
        "         5.94058464e-03,   6.00762030e-03,   6.06084827e-03,\n",
        "         6.09985086e-03,   6.12425595e-03,   6.13373783e-03,\n",
        "         6.12801793e-03,   6.10686522e-03,   6.07009638e-03,\n",
        "         6.01757570e-03,   5.94921465e-03,   5.86497122e-03,\n",
        "         5.76484884e-03,   5.64889501e-03,   5.51719956e-03,\n",
        "         5.36989243e-03,   5.20714104e-03,   5.02914715e-03,\n",
        "         4.83614310e-03,   4.62838732e-03,   4.40615915e-03,\n",
        "         4.16975249e-03,   3.91946836e-03,   3.65560578e-03,\n",
        "         3.37845069e-03,   3.08826205e-03,   2.78525430e-03,\n",
        "         2.46957448e-03,   2.14127179e-03,   1.80025569e-03,\n",
        "         1.44623631e-03,   1.07863598e-03,   6.96451570e-04,\n",
        "         2.98027207e-04,  -1.19349161e-04,   9.54584393e-03,\n",
        "         9.37692285e-03,   9.19814094e-03,   9.00993572e-03,\n",
        "         8.81276774e-03,   8.60711951e-03,   8.39349430e-03,\n",
        "         8.17241486e-03,   7.94442223e-03,   7.71007434e-03,\n",
        "         7.46994468e-03,   7.22462088e-03,   6.97470330e-03,\n",
        "         6.72080352e-03,   6.46354288e-03,   6.20355094e-03,\n",
        "         5.94146394e-03,   5.67792325e-03,   5.41357381e-03,\n",
        "         5.14906252e-03,   4.88503667e-03,   4.62214240e-03,\n",
        "         4.36102304e-03,   4.10231760e-03,   3.84665918e-03,\n",
        "         3.59467340e-03,   3.34697693e-03,   3.10417592e-03,\n",
        "         2.86686454e-03,   2.63562353e-03,   2.41101878e-03,\n",
        "         2.19359994e-03,   1.98389906e-03,   1.78242932e-03,\n",
        "         1.58968375e-03,   1.40613403e-03,   1.23222933e-03,\n",
        "         1.06839524e-03,   9.15032669e-04,   7.72516935e-04,\n",
        "         6.41196796e-04,   5.21393611e-04,   4.13400561e-04,\n",
        "         3.17481922e-04,   2.33872423e-04,   1.62776671e-04,\n",
        "         1.04368648e-04,   5.87912902e-05,   2.61561314e-05,\n",
        "         6.54303582e-06,   1.60397385e-34])"
       ]
      }
     ],
     "prompt_number": 17
    },
    {
     "cell_type": "markdown",
     "metadata": {},
     "source": [
      "If this drag coefficient is computed by rectangular integration method, the value is 4.07e-03 which is almost the same with trapezoid integration method.\n",
      "\n",
      "Similarly, change the resolution value (N) to 64 and 128, then compare the drag coefficient make by different resolutions and  flat plate solution."
     ]
    },
    {
     "cell_type": "markdown",
     "metadata": {},
     "source": [
      "| Resolution (N)      | Drag coefficient |\n",
      "|---------------------|------------------|\n",
      "| 32                  | 4.04e-03 |\n",
      "| 64                  | 4.06e-03 |\n",
      "| 128                 | 4.07e-03 |\n",
      "| Flat plate solution | 2.37e-03   |"
     ]
    },
    {
     "cell_type": "markdown",
     "metadata": {},
     "source": [
      "### 1.3 Pressure drag coefficient $C_D$"
     ]
    },
    {
     "cell_type": "markdown",
     "metadata": {},
     "source": [
      "I define a new separation judgement function for only this cylinder with radius 1. Notice, here, the relationship between half cylinder and whole cylinder is easily confused. When the index exceeds the separation location index, the behind pressure coefficient should be kept the same with the previous one."
     ]
    },
    {
     "cell_type": "code",
     "collapsed": false,
     "input": [
      "def new_predict_cylinder_separation(N=128,alpha=0,nu=1.e-5):\n",
      "    # This is cylinder's separation information.\n",
      "    s = numpy.linspace(0,2*numpy.pi,N)            # distance goes from 0..pi\n",
      "    u_e = 2.*numpy.sin(s)                       # velocity\n",
      "    du_e = 2.*numpy.cos(s) \n",
      "    delta, lam, iSep = march(s,u_e,du_e,nu)\n",
      "    p = numpy.empty([N])                      \n",
      "    circle = new_make_circle(N)\n",
      "    solve_gamma_kutta(circle)\n",
      "    p = pressure(circle)                    # This is pressure value \n",
      "    for i in range(N):\n",
      "        if i > iSep:\n",
      "            p[i] = p[i-1]\n",
      "    return p[:N/2]"
     ],
     "language": "python",
     "metadata": {},
     "outputs": []
    },
    {
     "cell_type": "markdown",
     "metadata": {},
     "source": [
      "Let's test it with resolution 128."
     ]
    },
    {
     "cell_type": "code",
     "collapsed": false,
     "input": [
      "N = 128\n",
      "p = new_predict_cylinder_separation(N,alpha=0,nu=1.e-5)\n",
      "pyplot.figure(figsize=(8,6))\n",
      "pyplot.ylabel(r'Pressure coefficient',fontsize=16)\n",
      "pyplot.xlabel(r'AoA $\\alpha (rad)$',fontsize=16)\n",
      "pyplot.plot(numpy.linspace(0,numpy.pi,N/2),p,lw=3, c='b', label='$C_P$')\n",
      "pyplot.legend(loc='upper right')"
     ],
     "language": "python",
     "metadata": {},
     "outputs": []
    },
    {
     "cell_type": "markdown",
     "metadata": {},
     "source": [
      "Then, let's compute Drag pressure coefficient $C_D$."
     ]
    },
    {
     "cell_type": "code",
     "collapsed": false,
     "input": [
      "# Calculate drag coefficient with different resolutions.\n",
      "N1, N2, N3 = 32, 64, 128\n",
      "p1, p2, p3 = numpy.empty(N1), numpy.empty(N2), numpy.empty(N3)\n",
      "p1 = new_predict_cylinder_separation(N1,alpha=0,nu=1.e-5)\n",
      "p2 = new_predict_cylinder_separation(N2,alpha=0,nu=1.e-5)\n",
      "p3 = new_predict_cylinder_separation(N3,alpha=0,nu=1.e-5)"
     ],
     "language": "python",
     "metadata": {},
     "outputs": []
    },
    {
     "cell_type": "markdown",
     "metadata": {},
     "source": [
      "Define $C_D$ function."
     ]
    },
    {
     "cell_type": "code",
     "collapsed": false,
     "input": [
      "def Cd(N,p):\n",
      "    s = numpy.linspace(0,2*numpy.pi,N)\n",
      "    sy = numpy.cos(s)\n",
      "    ds = 2*numpy.pi/(N-1)               # This is interval\n",
      "    return numpy.trapz(p*sy[:N/2], dx = 2*numpy.pi/(N-1))*2/numpy.pi"
     ],
     "language": "python",
     "metadata": {},
     "outputs": []
    },
    {
     "cell_type": "markdown",
     "metadata": {},
     "source": [
      "Print the results."
     ]
    },
    {
     "cell_type": "code",
     "collapsed": false,
     "input": [
      "print 'Resolution N = ' +'%i' %(N1) + ' , Drag coefficient=  ' + '%.3f' %(Cd(N1,p1))\n",
      "print 'Resolution N = ' +'%i' %(N2) + ' , Drag coefficient=  ' + '%.3f' %(Cd(N2,p2))\n",
      "print 'Resolution N = ' +'%i' %(N3) + ', Drag coefficient=  ' + '%.3f' %(Cd(N3,p3))"
     ],
     "language": "python",
     "metadata": {},
     "outputs": []
    },
    {
     "cell_type": "markdown",
     "metadata": {},
     "source": [
      "The above results are only half body's drag coefficient. If the drag coefficient, it should be times 2. \n",
      "Discussion: The drag coefficient value gets larger when resolution value N gets larger. But there is a convergent tendency. So, let us test it with several higher resolution values."
     ]
    },
    {
     "cell_type": "code",
     "collapsed": false,
     "input": [
      "N4, N5, N6 = 256, 512, 1024\n",
      "p4, p5, p6 = numpy.empty(N4), numpy.empty(N5), numpy.empty(N6)\n",
      "p4 = new_predict_cylinder_separation(N4,alpha=0,nu=1.e-5)\n",
      "p5 = new_predict_cylinder_separation(N5,alpha=0,nu=1.e-5)\n",
      "p6 = new_predict_cylinder_separation(N6,alpha=0,nu=1.e-5)\n",
      "print 'Resolution N = ' +'%i' %(N4) + ' , Drag coefficient=  ' + '%.3f' %(Cd(N4,p4))\n",
      "print 'Resolution N = ' +'%i' %(N5) + ' , Drag coefficient=  ' + '%.3f' %(Cd(N5,p5))\n",
      "print 'Resolution N = ' +'%i' %(N6) + ', Drag coefficient=  ' + '%.3f' %(Cd(N6,p6))"
     ],
     "language": "python",
     "metadata": {},
     "outputs": []
    },
    {
     "cell_type": "markdown",
     "metadata": {},
     "source": [
      "Yes, as what we want."
     ]
    },
    {
     "cell_type": "markdown",
     "metadata": {},
     "source": [
      "## 2 Jukowski foil "
     ]
    },
    {
     "cell_type": "markdown",
     "metadata": {},
     "source": [
      "### 2.1 lift coefficient"
     ]
    },
    {
     "cell_type": "markdown",
     "metadata": {},
     "source": [
      "In order to calculate lift coefficient $C_L$ as a function of Angle of Attack $\\alpha$ with three different resolutions, the Jukowski foils are generated firstly. Similarily, import some ingredients from LiftBody.py file."
     ]
    },
    {
     "cell_type": "code",
     "collapsed": false,
     "input": [
      "from LiftBody import make_jukowski, lift, jukowski_CL"
     ],
     "language": "python",
     "metadata": {},
     "outputs": []
    },
    {
     "cell_type": "markdown",
     "metadata": {},
     "source": [
      "Then, define and initialize relative foils and parameters. "
     ]
    },
    {
     "cell_type": "code",
     "collapsed": false,
     "input": [
      "N1, N2, N3 = 32, 64, 128    # define different resolution\n",
      "foil1, foil2, foil3 = make_jukowski(N1,0.15), make_jukowski(N2,0.15), make_jukowski(N3,0.15)   # initialize foils with three resolutions\n",
      "n = 10                                # this number is the division of AoA\n",
      "alpha = numpy.linspace(0,10,n)         # set angle of attack which is a set of number from 0 to 10**0\n",
      "# define a loop to calculate lift coefficient\n",
      "CL1, CL2, CL3 = numpy.empty(n), numpy.empty(n), numpy.empty(n) # initialize lift coefficient container"
     ],
     "language": "python",
     "metadata": {},
     "outputs": []
    },
    {
     "cell_type": "markdown",
     "metadata": {},
     "source": [
      "Use $\\gamma$ solver with Kutta condition to get strength $\\gamma$ at each Angle of Attack."
     ]
    },
    {
     "cell_type": "code",
     "collapsed": false,
     "input": [
      "for i in range(n):\n",
      "    solve_gamma_kutta(foil1,alpha[i]/180*numpy.pi)     # solve for gamma\n",
      "    CL1[i] = lift(foil1)\n",
      "\n",
      "    solve_gamma_kutta(foil2,alpha[i]/180*numpy.pi)     # solve for gamma\n",
      "    CL2[i] = lift(foil2)\n",
      "\n",
      "    solve_gamma_kutta(foil3,alpha[i]/180*numpy.pi)     # solve for gamma\n",
      "    CL3[i] = lift(foil3)        "
     ],
     "language": "python",
     "metadata": {},
     "outputs": []
    },
    {
     "cell_type": "markdown",
     "metadata": {},
     "source": [
      "Plot lift coefficient against with Angle of Attack and compare with exact potential flow solution."
     ]
    },
    {
     "cell_type": "code",
     "collapsed": false,
     "input": [
      "pyplot.figure(figsize=(8,6))\n",
      "pyplot.ylabel(r\"$C_L$\",fontsize=16)\n",
      "pyplot.xlabel(r'AoA $\\alpha (degree)$',fontsize=16)\n",
      "pyplot.plot(alpha,CL1,lw=3, c='c', label='$C_L--32$')\n",
      "pyplot.plot(alpha,CL2,lw=3, c='m', label='$C_L--64$')\n",
      "pyplot.plot(alpha,CL3,lw=3, c='y', label='$C_L--128$')\n",
      "pyplot.plot(alpha,jukowski_CL(alpha/180*numpy.pi,0.15),lw=3, c='k', label='$C_L--exact$')\n",
      "pyplot.legend(loc='lower right')"
     ],
     "language": "python",
     "metadata": {},
     "outputs": []
    },
    {
     "cell_type": "markdown",
     "metadata": {},
     "source": [
      "Discussion: when the resolution gets higher, the lift coefficient value gets closer to the exact value."
     ]
    },
    {
     "cell_type": "markdown",
     "metadata": {},
     "source": [
      "##2.2 Compute the separation point location"
     ]
    },
    {
     "cell_type": "markdown",
     "metadata": {},
     "source": [
      "The codes below slightly different with the previous codes due to avoid plotting so many pictures. Here I create two functions: *new_solve_plot_boundary_layers* and *new_predict_jukowski_separation*."
     ]
    },
    {
     "cell_type": "code",
     "collapsed": false,
     "input": [
      "from Separation import split_panels, Pohlhausen\n",
      "\n",
      "def new_solve_plot_boundary_layers(panels,alpha=0,nu=1e-5):\n",
      "    # split the panels\n",
      "    top_panels,bottom_panels = split_panels(panels)\n",
      "    # Set up and solve the top boundary layer\n",
      "    top = Pohlhausen(top_panels,nu)\n",
      "    top.march()\n",
      "    # Set up and solve the bottom boundary layer\n",
      "    bottom = Pohlhausen(bottom_panels,nu)\n",
      "    bottom.march()\n",
      "    return top,bottom\n",
      "\n",
      "def new_predict_jukowski_separation(t_c,alpha=0,N=128):\n",
      "    # set dx to gets the correct t/c\n",
      "    foil = make_jukowski(N,dx=t_c-0.019)\n",
      "    # find and print t/c\n",
      "    x0 = foil[N/2].xc\n",
      "    c = foil[0].xc-x0\n",
      "    t = 2.*numpy.max([p.yc for p in foil])\n",
      "    # solve potential flow and boundary layer evolution\n",
      "    solve_gamma_kutta(foil,alpha)\n",
      "    top, bottom = new_solve_plot_boundary_layers(foil,alpha)\n",
      "    return (top.x_sep-x0)/c, (bottom.x_sep-x0)/c"
     ],
     "language": "python",
     "metadata": {},
     "outputs": []
    },
    {
     "cell_type": "markdown",
     "metadata": {},
     "source": [
      "Next, initialize parameters such as resolution and then plot separation location information on either sides of foil in the same figure."
     ]
    },
    {
     "cell_type": "code",
     "collapsed": false,
     "input": [
      "n = 10                                # this number is the division of AoA\n",
      "alpha = numpy.linspace(0,10,n) \n",
      "sep = numpy.empty([n,2])                # Initialize a sep matrix to contain the separation points information.\n",
      "for i in range(n):\n",
      "    sep[i,:] = new_predict_jukowski_separation(0.15,alpha[i]*numpy.pi/180)\n",
      "pyplot.figure(figsize=(8,6))\n",
      "pyplot.ylabel(r'Separation position x/c from the leading edge',fontsize=16)\n",
      "pyplot.xlabel(r'AoA $\\alpha (degree)$',fontsize=16)\n",
      "pyplot.plot(alpha,sep[:,0],lw=3, c='r', label='Top Separation')\n",
      "pyplot.scatter(alpha, sep[:,0])\n",
      "pyplot.plot(alpha,sep[:,1],lw=3, c='b', label='Bottom Separation')\n",
      "pyplot.scatter(alpha, sep[:,1])\n",
      "pyplot.legend(loc='upper left')\n"
     ],
     "language": "python",
     "metadata": {},
     "outputs": []
    },
    {
     "cell_type": "markdown",
     "metadata": {},
     "source": [
      "Finally, print all the separation location details based on different angle of attack.\n",
      "When the angle of attack increases, the bottom separation point moves to trailing edge while the top separation point moves to leading edge. About 7 degree of AoA, the bottome separation point gets to the trailing edge. "
     ]
    },
    {
     "cell_type": "code",
     "collapsed": false,
     "input": [
      "for i in range(n):\n",
      "    print 'AoA: '+ '%.3f' %(alpha[i]) + ' degree, Top Separation at x/c= ' + '%.3f'%(sep[i,0])+', Bottom Separation at x/c= ' + '%.3f'%(sep[i,1])"
     ],
     "language": "python",
     "metadata": {},
     "outputs": []
    },
    {
     "cell_type": "markdown",
     "metadata": {},
     "source": [
      "## 3. Mystery geometry: NACA0015"
     ]
    },
    {
     "cell_type": "markdown",
     "metadata": {},
     "source": [
      "Using given *naca_offset* function to get the offset, then create a *make_naca* function to create naca foil by imitating *make_circle* function. Code is below. "
     ]
    },
    {
     "cell_type": "code",
     "collapsed": false,
     "input": [
      "def naca_offset(x): \n",
      "    return 5*0.15*(0.2969*numpy.sqrt(x)-0.1260*x-0.3516*x**2+0.2843*x**3-0.1036*x**4)\n",
      "\n",
      "def make_naca(N):\n",
      "    theta = numpy.linspace(0,-2.*numpy.pi,N+1)\n",
      "    x = (numpy.cos(theta)+1)/2.\n",
      "    y = naca_offset(x)*numpy.sign(numpy.sin(theta))\n",
      "    naca = numpy.empty(N, dtype=object)\n",
      "    for i in range(N):\n",
      "        naca[i] = Panel(x[i], y[i], x[i+1], y[i+1])\n",
      "    return naca"
     ],
     "language": "python",
     "metadata": {},
     "outputs": []
    },
    {
     "cell_type": "markdown",
     "metadata": {},
     "source": [
      "Then, predict naca foil separation point on either sides."
     ]
    },
    {
     "cell_type": "code",
     "collapsed": false,
     "input": [
      "def predict_naca_separation(N,alpha=0):\n",
      "    # set dx to gets the correct t/c\n",
      "    naca = make_naca(N)\n",
      "\n",
      "    x0 = naca[N/2].xc\n",
      "    c = naca[0].xc-x0\n",
      "    # solve potential flow and boundary layer evolution\n",
      "    solve_gamma_kutta(naca,alpha)\n",
      "    top, bottom = new_solve_plot_boundary_layers(naca,alpha)\n",
      "    return (top.x_sep-x0)/c, (bottom.x_sep-x0)/c"
     ],
     "language": "python",
     "metadata": {},
     "outputs": []
    },
    {
     "cell_type": "markdown",
     "metadata": {},
     "source": [
      "Initialize the parameter."
     ]
    },
    {
     "cell_type": "code",
     "collapsed": false,
     "input": [
      "N = 128\n",
      "alpha = numpy.linspace(0,10,n) \n",
      "sep = numpy.empty([n,2])"
     ],
     "language": "python",
     "metadata": {},
     "outputs": []
    },
    {
     "cell_type": "code",
     "collapsed": false,
     "input": [
      "for i in range(n):\n",
      "    sep[i,:] = predict_naca_separation(N,alpha[i]*numpy.pi/180)\n",
      "\n",
      "pyplot.figure(figsize=(8,6))\n",
      "pyplot.ylabel(r'Separation position x/c from the leading edge',fontsize=16)\n",
      "pyplot.xlabel(r'AoA $\\alpha (degree)$',fontsize=16)\n",
      "pyplot.plot(alpha,sep[:,0],lw=3, c='r', label='Top Separation')\n",
      "pyplot.scatter(alpha, sep[:,0])\n",
      "pyplot.plot(alpha,sep[:,1],lw=3, c='b', label='Bottom Separation')\n",
      "pyplot.scatter(alpha, sep[:,1])\n",
      "pyplot.legend(loc='upper left')   "
     ],
     "language": "python",
     "metadata": {},
     "outputs": []
    },
    {
     "cell_type": "markdown",
     "metadata": {},
     "source": [
      "Let us see the flow velocity field with a specific angle of attack."
     ]
    },
    {
     "cell_type": "code",
     "collapsed": false,
     "input": [
      "naca = make_naca(N)\n",
      "alpha = numpy.pi/16\n",
      "solve_gamma_kutta(naca,alpha)\n",
      "plot_flow(naca,alpha)"
     ],
     "language": "python",
     "metadata": {},
     "outputs": []
    },
    {
     "cell_type": "markdown",
     "metadata": {},
     "source": [
      "Comparing with $t/c=0.15$ Jukowski foil's separation condition."
     ]
    },
    {
     "cell_type": "code",
     "collapsed": false,
     "input": [
      "#Compare with jukouski foil\n",
      "n = 10                                # this number is the division of AoA\n",
      "alpha = numpy.linspace(0,10,n) \n",
      "sep2 = numpy.empty([n,2])                # Initialize a sep matrix to contain the separation points information.\n",
      "for i in range(n):\n",
      "    sep2[i,:] = new_predict_jukowski_separation(0.15,alpha[i]*numpy.pi/180)\n",
      "\n",
      "pyplot.figure(figsize=(8,6))\n",
      "pyplot.ylabel(r'Separation position x/c from the leading edge',fontsize=16)\n",
      "pyplot.xlabel(r'AoA $\\alpha (degree)$',fontsize=16)\n",
      "pyplot.plot(alpha,sep[:,0],lw=3, c='r', label='NACA Top Separation')\n",
      "pyplot.plot(alpha,sep2[:,0],lw=3, c='g', label='Jukowski Top Separation')\n",
      "pyplot.plot(alpha,sep[:,1],lw=3, c='b', label='NACA Bottom Separation')\n",
      "pyplot.plot(alpha,sep2[:,1],lw=3, c='y', label='Jukowski Bottom Separation')\n",
      "pyplot.legend(loc='center right') "
     ],
     "language": "python",
     "metadata": {},
     "outputs": [
      {
       "ename": "NameError",
       "evalue": "name 'new_predict_jukowski_separation' is not defined",
       "output_type": "pyerr",
       "traceback": [
        "\u001b[1;31m---------------------------------------------------------------------------\u001b[0m\n\u001b[1;31mNameError\u001b[0m                                 Traceback (most recent call last)",
        "\u001b[1;32m<ipython-input-3-1ce022ac8326>\u001b[0m in \u001b[0;36m<module>\u001b[1;34m()\u001b[0m\n\u001b[0;32m      4\u001b[0m \u001b[0msep2\u001b[0m \u001b[1;33m=\u001b[0m \u001b[0mnumpy\u001b[0m\u001b[1;33m.\u001b[0m\u001b[0mempty\u001b[0m\u001b[1;33m(\u001b[0m\u001b[1;33m[\u001b[0m\u001b[0mn\u001b[0m\u001b[1;33m,\u001b[0m\u001b[1;36m2\u001b[0m\u001b[1;33m]\u001b[0m\u001b[1;33m)\u001b[0m                \u001b[1;31m# Initialize a sep matrix to contain the separation points information.\u001b[0m\u001b[1;33m\u001b[0m\u001b[0m\n\u001b[0;32m      5\u001b[0m \u001b[1;32mfor\u001b[0m \u001b[0mi\u001b[0m \u001b[1;32min\u001b[0m \u001b[0mrange\u001b[0m\u001b[1;33m(\u001b[0m\u001b[0mn\u001b[0m\u001b[1;33m)\u001b[0m\u001b[1;33m:\u001b[0m\u001b[1;33m\u001b[0m\u001b[0m\n\u001b[1;32m----> 6\u001b[1;33m     \u001b[0msep2\u001b[0m\u001b[1;33m[\u001b[0m\u001b[0mi\u001b[0m\u001b[1;33m,\u001b[0m\u001b[1;33m:\u001b[0m\u001b[1;33m]\u001b[0m \u001b[1;33m=\u001b[0m \u001b[0mnew_predict_jukowski_separation\u001b[0m\u001b[1;33m(\u001b[0m\u001b[1;36m0.15\u001b[0m\u001b[1;33m,\u001b[0m\u001b[0malpha\u001b[0m\u001b[1;33m[\u001b[0m\u001b[0mi\u001b[0m\u001b[1;33m]\u001b[0m\u001b[1;33m*\u001b[0m\u001b[0mnumpy\u001b[0m\u001b[1;33m.\u001b[0m\u001b[0mpi\u001b[0m\u001b[1;33m/\u001b[0m\u001b[1;36m180\u001b[0m\u001b[1;33m)\u001b[0m\u001b[1;33m\u001b[0m\u001b[0m\n\u001b[0m\u001b[0;32m      7\u001b[0m \u001b[1;33m\u001b[0m\u001b[0m\n\u001b[0;32m      8\u001b[0m \u001b[0mpyplot\u001b[0m\u001b[1;33m.\u001b[0m\u001b[0mfigure\u001b[0m\u001b[1;33m(\u001b[0m\u001b[0mfigsize\u001b[0m\u001b[1;33m=\u001b[0m\u001b[1;33m(\u001b[0m\u001b[1;36m8\u001b[0m\u001b[1;33m,\u001b[0m\u001b[1;36m6\u001b[0m\u001b[1;33m)\u001b[0m\u001b[1;33m)\u001b[0m\u001b[1;33m\u001b[0m\u001b[0m\n",
        "\u001b[1;31mNameError\u001b[0m: name 'new_predict_jukowski_separation' is not defined"
       ]
      }
     ],
     "prompt_number": 3
    },
    {
     "cell_type": "markdown",
     "metadata": {},
     "source": [
      "Discussion: Comparing to Jukowski foil, NACA 0015 foil's initial separation points are behind Jukowski foil. When AoA increases, their top separation position get close, while NACA foil bottom separation position is harder to get trailing edge. which would generate more energy loss."
     ]
    },
    {
     "cell_type": "markdown",
     "metadata": {},
     "source": [
      "## 4. Conclusion"
     ]
    },
    {
     "cell_type": "markdown",
     "metadata": {},
     "source": [
      "As can be seen from the comparison of different resolution coefficients with exact values, higher resolution's geometry gets more closer to exact value.\n",
      "\n",
      "This is lower order vortex panel method or panel method. According to my previous experience, some higher order panel method can get higher convergent speed and higher accuracy."
     ]
    }
   ],
   "metadata": {}
  }
 ]
}