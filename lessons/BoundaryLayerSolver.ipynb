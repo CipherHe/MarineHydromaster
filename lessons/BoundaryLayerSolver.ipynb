{
 "metadata": {
  "name": "",
  "signature": "sha256:ecf710153cc79e190c0f916c95920595b4db9984d0984a12e6d60db5f9ac984b"
 },
 "nbformat": 3,
 "nbformat_minor": 0,
 "worksheets": [
  {
   "cells": [
    {
     "cell_type": "markdown",
     "metadata": {},
     "source": [
      "# Boundary Layer Solver\n",
      "\n",
      "This notebook will develop a numerical method for solving the boundary layer momentum integral equation using Pohlhausen velocity profiles."
     ]
    },
    {
     "cell_type": "markdown",
     "metadata": {},
     "source": [
      "## Momentum integral equation\n",
      "\n",
      "In the boundary layer portion of the course we derived the governing equations for a boundary layer using the concept of a velocity profile \n",
      "\n",
      "$$u = u_e(x) f(\\eta), \\quad \\eta=\\frac y{\\delta(x)}$$\n",
      "\n",
      "where $u_e$ is the local free stream velocity and $\\delta$ is the boundary layer thickness. Note that $x$ is the distance along the wall from the leading edge and $y$ is the distance from the wall.\n",
      "\n",
      "---\n",
      "![Boundary layer profile](resources/graphics4.png)\n",
      "\n",
      "---\n",
      "\n",
      "This enables the development of the **momentum integral equation**\n",
      "\n",
      "$$ \\frac 12 c_f = \\frac{u_e'}{u_e}(\\delta_1+2\\delta_2)+\\delta_2' $$\n",
      "\n",
      "which balances the local wall friction with the change in the boundary layer profile. The tick mark indicates a derivative, ie $u_e'=\\frac{du_e}{dx}$. \n",
      "\n",
      "** The goal is to use the momentum equation to determine how the boundary layer develops, predicting the friction drag and the point of separation. **\n",
      "\n",
      "The velocity $u_e$ (and $u_e'$) is considered to be prescribed by the potential flow solution, but there are still too many unknowns. We need to choose a profile to develop this further..."
     ]
    },
    {
     "cell_type": "markdown",
     "metadata": {},
     "source": [
      "##Pohlhausen profile\n",
      "\n",
      "The Pohlhausen profile is used to describe a **laminar** velocity profile exposed to external pressure gradients. The profile is defined as\n",
      "\n",
      "$$ \\frac u {u_e} = f(\\eta) = P_F(\\eta)+\\lambda P_G(\\eta) $$\n",
      "\n",
      "where $\\lambda$ is the *shape factor*, given by\n",
      "$$ \\lambda = \\frac {\\delta^2}\\nu u_e'$$\n",
      "\n",
      "and the profile shapes are defined by\n",
      "\n",
      "- $ P_F = 2\\eta-2\\eta^3+\\eta^4 $ is the flat plate profile\n",
      "- $ P_G = \\frac\\eta 6 (1-\\eta)^3 $ is the modification for pressure gradients\n",
      "\n",
      "These can be easly defined using a set of python functions"
     ]
    },
    {
     "cell_type": "code",
     "collapsed": false,
     "input": [
      "import numpy\n",
      "\n",
      "def pohlF(eta): return 2*eta-2*eta**3+eta**4\n",
      "def pohlG(eta): return eta/6*(1-eta)**3"
     ],
     "language": "python",
     "metadata": {},
     "outputs": [],
     "prompt_number": 1
    },
    {
     "cell_type": "code",
     "collapsed": false,
     "input": [
      "from matplotlib import pyplot\n",
      "%matplotlib inline\n",
      "\n",
      "def pohlPlot(lam):\n",
      "    pyplot.xlabel(r'$u/u_e$', fontsize=16)\n",
      "    pyplot.axis([-0.1,1.1,0,1])\n",
      "    pyplot.ylabel(r'$y/\\delta$', fontsize=16)\n",
      "    eta = numpy.linspace(0.0,1.0,100)\n",
      "    pyplot.plot(pohlF(eta),eta, lw=1, c='k', label=r'$P_F$')\n",
      "    pyplot.plot(pohlF(eta)+lam*pohlG(eta),eta, lw=2, c='g', label=r'$P_F+\\lambda P_G$')\n",
      "    pyplot.legend(loc='upper left')"
     ],
     "language": "python",
     "metadata": {},
     "outputs": [],
     "prompt_number": 2
    },
    {
     "cell_type": "markdown",
     "metadata": {},
     "source": [
      "Change $\\lambda$ below to see its effect on the profile shape."
     ]
    },
    {
     "cell_type": "code",
     "collapsed": false,
     "input": [
      "pohlPlot(lam=7)"
     ],
     "language": "python",
     "metadata": {},
     "outputs": [
      {
       "metadata": {},
       "output_type": "display_data",
       "png": "[encoded data removed]",
       "text": [
        "<matplotlib.figure.Figure at 0x101dc2290>"
       ]
      }
     ],
     "prompt_number": 3
    },
    {
     "cell_type": "markdown",
     "metadata": {},
     "source": [
      "##### Quiz 1\n",
      "\n",
      "What value of $\\lambda$ denotes separated flow?\n",
      "\n",
      "1. $\\lambda$<-12\n",
      "1. $\\lambda$=0\n",
      "1. $\\lambda$>12"
     ]
    },
    {
     "cell_type": "markdown",
     "metadata": {},
     "source": [
      "---\n",
      "\n",
      "Using the Pohlhausen profile, the various factors in the momentum integral equation are defined as\n",
      "\n",
      "- $\\frac{\\delta_1}\\delta = \\int_0^1 (1-f) d\\eta = \\frac3{10}-\\lambda\\frac1{120}$\n",
      "\n",
      "\n",
      "- $\\frac{\\delta_2}\\delta = \\int_0^1 f(1-f) d\\eta = \\frac{37}{315}-\\lambda\\frac1{945}-\\lambda^2\\frac1{9072}$\n",
      "\n",
      "\n",
      "- $\\frac 12 c_f Re_\\delta =f'(0)= 2+\\lambda\\frac1{6}$\n",
      "\n",
      "where $Re_\\delta = \\frac{u_e\\delta}\\nu$ is the local boundary layer Reynolds number. "
     ]
    },
    {
     "cell_type": "code",
     "collapsed": false,
     "input": [
      "def disp_ratio(lam): return 3./10.-lam/120.\n",
      "def mom_ratio(lam): return 37./315.-lam/945.-lam**2/9072.\n",
      "def df_0(lam): return 2+lam/6."
     ],
     "language": "python",
     "metadata": {},
     "outputs": [],
     "prompt_number": 4
    },
    {
     "cell_type": "code",
     "collapsed": false,
     "input": [
      "pyplot.xlabel(r'$\\lambda$', fontsize=16)\n",
      "lam = numpy.linspace(-12,12,100)\n",
      "pyplot.plot(lam,disp_ratio(lam), lw=2, label=r'$\\delta_1/\\delta$')\n",
      "pyplot.plot(lam,mom_ratio(lam), lw=2, label=r'$\\delta_2/\\delta$')\n",
      "pyplot.plot(lam,df_0(lam)/10., lw=2, label=r'$c_f Re_\\delta/20$')\n",
      "pyplot.legend(loc='upper right')"
     ],
     "language": "python",
     "metadata": {},
     "outputs": [
      {
       "metadata": {},
       "output_type": "pyout",
       "prompt_number": 5,
       "text": [
        "<matplotlib.legend.Legend at 0x1063c2950>"
       ]
      },
      {
       "metadata": {},
       "output_type": "display_data",
       "png": "[encoded data removed]",
       "text": [
        "<matplotlib.figure.Figure at 0x1063de290>"
       ]
      }
     ],
     "prompt_number": 5
    },
    {
     "cell_type": "markdown",
     "metadata": {},
     "source": [
      "Note that these are all polynomial functions of $\\lambda$. **Since $u_e$ is given by potential flow and $\\lambda = \\frac {\\delta^2}\\nu u_e'$, the only unknown in the momentum equation is now $\\delta(x)$!**"
     ]
    },
    {
     "cell_type": "markdown",
     "metadata": {},
     "source": [
      "## Stagnation point condition\n",
      "\n",
      "Now we need to write the momentum equation in terms of $\\delta$ (and $\\lambda$) and solve. This equation needs to be valid from the leading edge all the way to the point of separation. \n",
      "\n",
      "For any body with finite thickness the boundary layer will begin at the stagnation point at the front of the body. However, describing the boundary layer at a stagnation point is somewhat tricky.\n",
      "\n",
      "![Stagnation point](resources/stagnation.png)"
     ]
    },
    {
     "cell_type": "markdown",
     "metadata": {},
     "source": [
      "##### Quiz 2\n",
      "\n",
      "Which relationships are true at a stagnation point?\n",
      "\n",
      "1. $u_e = 0$\n",
      "1. $u_e' = 0$\n",
      "1. $\\delta/x << 1$\n",
      "1. $c_f$ is singular"
     ]
    },
    {
     "cell_type": "markdown",
     "metadata": {},
     "source": [
      "---\n",
      "\n",
      "That's no good - the momentum equation will be singular at the leading edge.  We can avoid this problem by multiplying the whole equation by $Re_\\delta$, leading to:\n",
      "\n",
      "$$ \\frac 12 c_f Re_\\delta = \\frac\\delta\\nu u_e' [\\delta_1+2\\delta_2]+Re_\\delta \\delta_2'$$ \n",
      "\n",
      "The first term on the RHS can be simplified by dividing the brackets by $\\delta$ and mutiplying by $\\delta$ outside out to produce the definition of $\\lambda$. This lets us group the terms only dependant on $\\lambda$ together to define\n",
      "\n",
      "$$ g_1(\\lambda) = \\frac 12 c_f Re_\\delta - \\lambda \\left[\\frac{\\delta_1}{\\delta}+2\\frac{\\delta_2}\\delta\\right]$$"
     ]
    },
    {
     "cell_type": "code",
     "collapsed": false,
     "input": [
      "def g_1(lam): return df_0(lam)-lam*(disp_ratio(lam)+2*mom_ratio(lam))"
     ],
     "language": "python",
     "metadata": {},
     "outputs": [],
     "prompt_number": 6
    },
    {
     "cell_type": "markdown",
     "metadata": {},
     "source": [
      "Using this definition, the momentum equation is\n",
      "\n",
      "$$ g_1(\\lambda) = Re_\\delta \\delta_2'$$ "
     ]
    },
    {
     "cell_type": "markdown",
     "metadata": {},
     "source": [
      "\n",
      "##### Quiz 3\n",
      "\n",
      "The equation above further simplifies at the stagnation point. Which is correct?\n",
      "\n",
      "1. $g_1 = 0$\n",
      "1. $g_1 = Re_\\delta$\n",
      "1. $ \\frac 12 c_f = 0$"
     ]
    },
    {
     "cell_type": "markdown",
     "metadata": {},
     "source": [
      "---\n",
      "\n",
      "Solving this equations will determine our *initial condition* $\\lambda_0$. Using my vast [google skills](http://lmgtfy.com/?q=numpy+find+root&l=1) I found the `bisect` function in `scipy.optimize` which will solve for the root."
     ]
    },
    {
     "cell_type": "code",
     "collapsed": false,
     "input": [
      "from scipy.optimize import bisect\n",
      "lam0 = bisect(g_1,-12,12)         # use bisect method to find root between -12...12\n",
      "print 'lambda_0 = ',lam0"
     ],
     "language": "python",
     "metadata": {},
     "outputs": [
      {
       "output_type": "stream",
       "stream": "stdout",
       "text": [
        "lambda_0 =  7.05232310118\n"
       ]
      }
     ],
     "prompt_number": 7
    },
    {
     "cell_type": "markdown",
     "metadata": {},
     "source": [
      "With the value of $\\lambda_0$ determined, the initial condition $\\delta_0$ is simply\n",
      "\n",
      "$$ \\delta_0 = \\sqrt{\\frac{\\nu \\lambda_0}{u_e'(x_0)}} $$"
     ]
    },
    {
     "cell_type": "markdown",
     "metadata": {},
     "source": [
      "## Pohlhausen momentum equation\n",
      "\n",
      "The only thing left to do is write $\\delta_2'$ in terms of $\\delta'$. Using $F=\\frac{\\delta_2}\\delta$ we have\n",
      "\n",
      "$$ \\delta_2' = \\frac{d}{dx}(F\\delta) $$\n",
      "\n",
      "From the line plot above, we see that $F$ is nearly unchanged across the whole range of $\\lambda$, so we will treat it as a constant. Therefore the complete Pohlhausen momentum equation is\n",
      "\n",
      "$$ g_1 = Re_\\delta F \\delta'$$\n",
      "\n",
      "Isolating the derivative, we have\n",
      "\n",
      "$$ \\delta'= \\frac{g_1(\\lambda)}{Re_\\delta F(\\lambda)} $$"
     ]
    },
    {
     "cell_type": "code",
     "collapsed": false,
     "input": [
      "def ddx_delta(Re_d,lam):\n",
      "    if Re_d==0: return 0                     # Stagnation point condition\n",
      "    return g_1(lam)/mom_ratio(lam)/Re_d      # delta'"
     ],
     "language": "python",
     "metadata": {},
     "outputs": [],
     "prompt_number": 8
    },
    {
     "cell_type": "markdown",
     "metadata": {},
     "source": [
      "Lets plot the functions of  $\\lambda$ to get a feel for how the boundary layer will develop."
     ]
    },
    {
     "cell_type": "code",
     "collapsed": false,
     "input": [
      "pyplot.xlabel(r'$\\lambda$', fontsize=16)\n",
      "pyplot.ylabel(r'$g_1/F$', fontsize=16)\n",
      "pyplot.plot(lam,ddx_delta(1,lam), lw=2)\n",
      "pyplot.scatter(lam0,0, s=100, c='r')\n",
      "pyplot.text(lam0,3, r'$\\lambda_0$',fontsize=15)"
     ],
     "language": "python",
     "metadata": {},
     "outputs": [
      {
       "metadata": {},
       "output_type": "pyout",
       "prompt_number": 9,
       "text": [
        "<matplotlib.text.Text at 0x107363710>"
       ]
      },
      {
       "metadata": {},
       "output_type": "display_data",
       "png": "[encoded data removed]",
       "text": [
        "<matplotlib.figure.Figure at 0x107244b90>"
       ]
      }
     ],
     "prompt_number": 9
    },
    {
     "cell_type": "markdown",
     "metadata": {},
     "source": [
      "##### Quiz 4\n",
      "\n",
      "What will happen if $\\lambda>\\lambda_0$?\n",
      "\n",
      "1. Flat plate boundary layer flow.\n",
      "1. The boundary layer will shrink.\n",
      "1. The Pohlausen equation will be singular."
     ]
    },
    {
     "cell_type": "markdown",
     "metadata": {},
     "source": [
      "## Ordinary differential equations\n",
      "\n",
      "The momentum equation above is an ordinary differentilal equation (ODE), having the form\n",
      "\n",
      "$$ \\psi' = g(\\psi(x),x) $$\n",
      "\n",
      "where the derivative is only a function of the variable $\\psi$ and one indepentant variable $x$. All ODEs have an important feature in common:\n",
      "\n",
      "##### Mathematics fundamental: ODEs\n",
      "##### Systems' whose evolution depends only on their current state \n",
      "\n",
      "This makes them easier to solve. If we integrate the ODE from $x_0$ to $x_1$ we have\n",
      "\n",
      "$$ \\psi(x_1) = \\psi_1= \\psi_0+\\int_{x_0}^{x_1} g(\\psi(x),x) dx $$\n",
      "\n",
      "which means all we need to solve for $\\psi_1$ is the initial condition $\\psi_0$ and an estimate the RHS integral. And once we have $\\psi_1$, we can get $\\psi_2$, etc. In general we have\n",
      "\n",
      "$$ \\psi_{i+1}= \\psi_i+\\int_{x_i}^{x_{i+1}} g(\\psi(x),x) dx  \\quad i=0,\\ldots, N-1$$\n",
      "\n",
      "This means the ODE can be solved by *marching* from $x=0$ to $x=L$. Compare this to the vortex panel method and its linear system of equations that needed to be solved simultaneously using matrices... This is easy."
     ]
    },
    {
     "cell_type": "markdown",
     "metadata": {},
     "source": [
      "## Numerical integration\n",
      "\n",
      "You've seen numerical ways to determine the area under a curve before, like the trapezioal rule\n",
      "\n",
      "$$ \\int_{x_i}^{x_{i+1}} f(x) dx \\approx  \\frac12[f(x_1)+f(x_{i+1})] \\Delta x$$\n",
      "\n",
      "where $\\Delta x=x_{i+1}-x_1$"
     ]
    },
    {
     "cell_type": "markdown",
     "metadata": {},
     "source": [
      "##### Quiz 5\n",
      "\n",
      "What is the important difference between the integral above and the ODE integral?\n",
      "\n",
      "1. $\\psi_{i+1}$ is unknown\n",
      "1. $g$ is unknown\n",
      "1. $g$ is nonlinear"
     ]
    },
    {
     "cell_type": "markdown",
     "metadata": {},
     "source": [
      "---\n",
      "This means we have to split the numerical method into two steps. First we estimate the integral as $g(\\psi_i,x_i)\\Delta x$. This lets us *predict* an estimate of $\\psi_{i+1}$\n",
      "\n",
      "$$ \\tilde\\psi_{i+1}= \\psi_i+ g(\\psi_i,x_i)\\Delta x $$\n",
      "\n",
      "However, this one-sided estimate of the integral is very rough. In the next step we *correct* the prediction using the trapeziodal rule\n",
      "\n",
      "$$ \\psi_{i+1}= \\psi_i+ \\frac12[g(\\psi_i,x_i)+g(\\tilde\\psi_{i+1},x_{i+1})]\\Delta x$$\n",
      "\n",
      "This is often called the predictor/corrector method, or [Heun's method](http://en.wikipedia.org/wiki/Heun%27s_method).\n",
      "\n",
      "Let's code it up:"
     ]
    },
    {
     "cell_type": "code",
     "collapsed": false,
     "input": [
      "def heun(g,psi_i,i,dx,*args):\n",
      "    g_i = g(psi_i,i,*args)                      # integrand at i\n",
      "    tilde_psi = psi_i+g_i*dx                    # predicted estimate at i+1\n",
      "    g_i_1 = g(tilde_psi,i+1,*args)              # integrand at i+1\n",
      "    return psi_i+0.5*(g_i+g_i_1)*dx             # corrected estimate"
     ],
     "language": "python",
     "metadata": {},
     "outputs": [],
     "prompt_number": 10
    },
    {
     "cell_type": "markdown",
     "metadata": {},
     "source": [
      "In this code we've made the integrand `g` a function of `psi` and the index `i`. Note that `g_i_1`=$g_{i+1}$ and we've passed $i+1$ as the index. We've also left the option for [additional arguments](https://docs.python.org/dev/tutorial/controlflow.html#more-on-defining-functions) to be passed to `g` as `*args` which is required for the boundary layer ODE. \n",
      "\n",
      "Before we get to that, lets test `heun` using $\\psi'=\\psi$ with $\\psi_0=1$, since we know the solution is $\\psi = e^x$"
     ]
    },
    {
     "cell_type": "code",
     "collapsed": false,
     "input": [
      "N = 20                                      # number of steps\n",
      "x = numpy.linspace(0,numpy.pi,N)            # set up x array from 0..pi\n",
      "psi = numpy.full_like(x,1.)                 # psi array with phi0=1\n",
      "def g_test(psi,i): return psi               # define derivative function\n",
      "for i in range(N-1):                        # march!\n",
      "    psi[i+1] = heun(g_test,psi[i],i,(x[i+1]-x[i]))"
     ],
     "language": "python",
     "metadata": {},
     "outputs": [],
     "prompt_number": 11
    },
    {
     "cell_type": "code",
     "collapsed": false,
     "input": [
      "pyplot.plot(x,psi)\n",
      "pyplot.plot(x,numpy.exp(x))\n",
      "print 'exp(pi) ~ ', psi[N-1],', error = ',1-psi[N-1]/numpy.exp(numpy.pi)"
     ],
     "language": "python",
     "metadata": {},
     "outputs": [
      {
       "output_type": "stream",
       "stream": "stdout",
       "text": [
        "exp(pi) ~  22.8496648117 , error =  0.0125764524705\n"
       ]
      },
      {
       "metadata": {},
       "output_type": "display_data",
       "png": "[encoded data removed]",
       "text": [
        "<matplotlib.figure.Figure at 0x1061cc310>"
       ]
      }
     ],
     "prompt_number": 12
    },
    {
     "cell_type": "markdown",
     "metadata": {},
     "source": [
      "Looks good, only 1% error. \n",
      "\n",
      "\n",
      "##### Bonus: What is the error if we don't do the correction step?"
     ]
    },
    {
     "cell_type": "markdown",
     "metadata": {},
     "source": [
      "## Boundary layer on a circle\n",
      "\n",
      "Returning to the boundary layer ODE, we first define a function which can be integrated by `heun`"
     ]
    },
    {
     "cell_type": "code",
     "collapsed": false,
     "input": [
      "def g_pohl(delta_i,i,u_e,du_e,nu):\n",
      "    Re_d = delta_i*u_e[i]/nu            # compute local Reynolds number\n",
      "    lam = delta_i**2*du_e[i]/nu         # compute local lambda \n",
      "    return ddx_delta(Re_d,lam)          # get derivative"
     ],
     "language": "python",
     "metadata": {},
     "outputs": [],
     "prompt_number": 13
    },
    {
     "cell_type": "markdown",
     "metadata": {},
     "source": [
      "where `u_e`, `du_e`, and `nu` are the extra arguments, needed to compute $Re_\\delta$ and $\\lambda$.\n",
      "\n",
      "Then we use this function and `heun` to march from the initial condition $\\lambda_0,\\delta_0$ along the boundary layer until we reach the point of separation at $\\lambda<-12$"
     ]
    },
    {
     "cell_type": "code",
     "collapsed": false,
     "input": [
      "def march(x,u_e,du_e,nu):\n",
      "    delta0 = numpy.sqrt(lam0*nu/du_e[0])                # set delta0\n",
      "    delta = numpy.full_like(x,delta0)                   # delta array\n",
      "    lam = numpy.full_like(x,lam0)                       # lambda array\n",
      "    for i in range(len(x)-1):                           # march!\n",
      "        delta[i+1] = heun(g_pohl,delta[i],i,x[i+1]-x[i],    # integrate BL using...\n",
      "                          u_e,du_e,nu)                          # additional arguments\n",
      "        lam[i+1] = delta[i+1]**2*du_e[i+1]/nu               # compute lambda\n",
      "        if abs(lam[i+1])>12: break                          # check stop condition\n",
      "    return delta,lam,i                                  # return with separation index"
     ],
     "language": "python",
     "metadata": {},
     "outputs": [],
     "prompt_number": 14
    },
    {
     "cell_type": "markdown",
     "metadata": {},
     "source": [
      "and we're done!\n",
      "\n",
      "---\n",
      "Let's test it on the flow around a circle. \n",
      "\n",
      "![circle sketch](resources/graphics3.png)\n",
      "\n",
      "In this case the boundary layer will march around the circle from $s=0,\\ldots,R\\pi$. Lets set the parameters $R=1$, $U_\\infty=1$ and $Re_R=10^5$, such that $\\nu=10^{-5}$. The tangential velocity around a circular cylinder using potential flow is simply\n",
      "\n",
      "$$u_e = 2\\sin(s)$$\n",
      "\n",
      "Now that we've defined `march` we can set-up and solve for the boundary layer in just a few lines of code:"
     ]
    },
    {
     "cell_type": "code",
     "collapsed": false,
     "input": [
      "nu = 1e-4                                   # viscosity\n",
      "N = 32                                      # number of steps\n",
      "s = numpy.linspace(0,numpy.pi,N)            # distance goes from 0..pi\n",
      "u_e = 2.*numpy.sin(s)                       # velocity\n",
      "du_e = 2.*numpy.cos(s)                      # gradient\n",
      "delta,lam,iSep = march(s,u_e,du_e,nu)       # solve!"
     ],
     "language": "python",
     "metadata": {},
     "outputs": [],
     "prompt_number": 15
    },
    {
     "cell_type": "markdown",
     "metadata": {},
     "source": [
      "Let plot the boundary layer thickness on the circle compared to the exact solution for a laminar flat plate boundary layer from Blausius."
     ]
    },
    {
     "cell_type": "code",
     "collapsed": false,
     "input": [
      "pyplot.ylabel(r'$\\delta/R$', fontsize=16)\n",
      "pyplot.xlabel(r'$s/R$', fontsize=16)\n",
      "pyplot.plot(s[:iSep+1],delta[:iSep+1],lw=2,label='Circle')\n",
      "pyplot.plot(s,s*5/numpy.sqrt(s/nu),lw=2,label='Flat plate')\n",
      "pyplot.legend(loc='upper left')\n",
      "pyplot.scatter(s[iSep],delta[iSep], s=100, c='r')\n",
      "pyplot.text(s[iSep]+0.1,delta[iSep],'separation between\\n'\n",
      "            +'%.2f' % s[iSep]+'<s<'+'%.2f' % s[iSep+1],fontsize=12)"
     ],
     "language": "python",
     "metadata": {},
     "outputs": [
      {
       "metadata": {},
       "output_type": "pyout",
       "prompt_number": 19,
       "text": [
        "<matplotlib.text.Text at 0x107249f10>"
       ]
      },
      {
       "metadata": {},
       "output_type": "display_data",
       "png": "[encoded data removed]",
       "text": [
        "<matplotlib.figure.Figure at 0x107416110>"
       ]
      }
     ],
     "prompt_number": 19
    },
    {
     "cell_type": "markdown",
     "metadata": {},
     "source": [
      "The circle solution is completely different due to the external pressure gradients.\n",
      "\n",
      " - The boundary layer growth is stunted on the front body\n",
      " - $\\delta$ increases rapidly as the flow approaches the midbody\n",
      " - The flow separates around $1.87$ radians $\\approx 107^o$\n",
      " \n",
      "This is in good agreement with Hoerner's Fluid-Dynamic Drag, which states that theoretical laminar separation occurs at ~$110^o$ for this case."
     ]
    },
    {
     "cell_type": "markdown",
     "metadata": {},
     "source": [
      "##### Quiz 6\n",
      "\n",
      "How does the separation point depend on $\\nu$?\n",
      "\n",
      "1. Increasing $\\nu$ delays separation\n",
      "1. Decreasing $\\nu$ delays separation\n",
      "1. Chaning $\\nu$ has no effect on separation"
     ]
    },
    {
     "cell_type": "markdown",
     "metadata": {},
     "source": [
      "---\n",
      "\n",
      "We know analytically that $\\delta$ scales as $\\sqrt\\nu$ (which you can double check using the code above), and therefore $\\lambda=\\frac{\\delta^2}\\nu u_e'$ doesn't depend on $\\nu$ at all. Since the separation point is determined by $\\lambda$, this is also independant of $\\nu$.\n",
      "\n",
      "##### Fluids fundamental: Separation Point\n",
      "##### The point of laminar separation is independant of $Re$\n",
      "\n",
      "This is **not** true of a turbulent boundary layer."
     ]
    },
    {
     "cell_type": "markdown",
     "metadata": {},
     "source": [
      "##### Quiz 7\n",
      "\n",
      "How can you compute the total friction drag coefficient $C_F$ on the circle? \n",
      "\n",
      "1. Use the flat plate estimate, I'm sure that will be fine...\n",
      "1. Compute $\\tau_w=\\frac 12 c_f \\rho u_e^2 $ and integrate numerically\n",
      "\n",
      "Hint: [`numpy.trapz`](http://docs.scipy.org/doc/numpy/reference/generated/numpy.trapz.html)"
     ]
    },
    {
     "cell_type": "markdown",
     "metadata": {},
     "source": [
      "##### Your turn\n",
      "\n",
      "Determine $C_F=\\frac {2F_F}{\\rho U_\\infty^2 S}$ , where $F_F = \\int \\tau_w s_x ds$ is the 2D friction drag and $S$ is the 2D surface area, and compare it to the flat plate solution: $1.33 Re^{-1/2}$."
     ]
    },
    {
     "cell_type": "code",
     "collapsed": false,
     "input": [
      "# your code here"
     ],
     "language": "python",
     "metadata": {},
     "outputs": [],
     "prompt_number": 17
    },
    {
     "cell_type": "markdown",
     "metadata": {},
     "source": [
      "---\n",
      "Please ignore the cell below. It just loads our style for the notebooks."
     ]
    },
    {
     "cell_type": "code",
     "collapsed": false,
     "input": [
      "from IPython.core.display import HTML\n",
      "def css_styling():\n",
      "    styles = open('../styles/custom.css', 'r').read()\n",
      "    return HTML(styles)\n",
      "css_styling()"
     ],
     "language": "python",
     "metadata": {},
     "outputs": [
      {
       "html": [
        "<link href='http://fonts.googleapis.com/css?family=Fenix' rel='stylesheet' type='text/css'>\n",
        "<link href='http://fonts.googleapis.com/css?family=Alegreya+Sans:100,300,400,500,700,800,900,100italic,300italic,400italic,500italic,700italic,800italic,900italic' rel='stylesheet' type='text/css'>\n",
        "<link href='http://fonts.googleapis.com/css?family=Source+Code+Pro:300,400' rel='stylesheet' type='text/css'>\n",
        "<style>\n",
        "    @font-face {\n",
        "        font-family: \"Computer Modern\";\n",
        "        src: url('http://mirrors.ctan.org/fonts/cm-unicode/fonts/otf/cmunss.otf');\n",
        "    }\n",
        "    div.cell{\n",
        "        width:800px;\n",
        "        margin-left:16% !important;\n",
        "        margin-right:auto;\n",
        "    }\n",
        "    h1 {\n",
        "        font-family: 'Alegreya Sans', sans-serif;\n",
        "    }\n",
        "    h2 {\n",
        "        font-family: 'Fenix', serif;\n",
        "    }\n",
        "    h3{\n",
        "\t\tfont-family: 'Fenix', serif;\n",
        "        margin-top:12px;\n",
        "        margin-bottom: 3px;\n",
        "       }\n",
        "\th4{\n",
        "\t\tfont-family: 'Fenix', serif;\n",
        "       }\n",
        "    h5 {\n",
        "        font-family: 'Alegreya Sans', sans-serif;\n",
        "    }\t   \n",
        "    div.text_cell_render{\n",
        "        font-family: 'Alegreya Sans',Computer Modern, \"Helvetica Neue\", Arial, Helvetica, Geneva, sans-serif;\n",
        "        line-height: 135%;\n",
        "        font-size: 120%;\n",
        "        width:600px;\n",
        "        margin-left:auto;\n",
        "        margin-right:auto;\n",
        "    }\n",
        "    .CodeMirror{\n",
        "            font-family: \"Source Code Pro\";\n",
        "\t\t\tfont-size: 90%;\n",
        "    }\n",
        "/*    .prompt{\n",
        "        display: None;\n",
        "    }*/\n",
        "    .text_cell_render h1 {\n",
        "        font-weight: 200;\n",
        "        font-size: 50pt;\n",
        "\t\tline-height: 100%;\n",
        "        color:#CD2305;\n",
        "        margin-bottom: 0.5em;\n",
        "        margin-top: 0.5em;\n",
        "        display: block;\n",
        "    }\t\n",
        "    .text_cell_render h5 {\n",
        "        font-weight: 300;\n",
        "        font-size: 16pt;\n",
        "        color: #CD2305;\n",
        "        font-style: italic;\n",
        "        margin-bottom: .5em;\n",
        "        margin-top: 0.5em;\n",
        "        display: block;\n",
        "    }\n",
        "    \n",
        "    .warning{\n",
        "        color: rgb( 240, 20, 20 )\n",
        "        }  \n",
        "</style>\n",
        "<script>\n",
        "    MathJax.Hub.Config({\n",
        "                        TeX: {\n",
        "                           extensions: [\"AMSmath.js\"], \n",
        "                           equationNumbers: { autoNumber: \"AMS\", useLabelIds: true}\n",
        "                           },\n",
        "                tex2jax: {\n",
        "                    inlineMath: [ ['$','$'], [\"\\\\(\",\"\\\\)\"] ],\n",
        "                    displayMath: [ ['$$','$$'], [\"\\\\[\",\"\\\\]\"] ]\n",
        "                },\n",
        "                displayAlign: 'center', // Change this to 'center' to center equations.\n",
        "                \"HTML-CSS\": {\n",
        "                    styles: {'.MathJax_Display': {\"margin\": 4}}\n",
        "                }\n",
        "        });\n",
        "</script>\n"
       ],
       "metadata": {},
       "output_type": "pyout",
       "prompt_number": 18,
       "text": [
        "<IPython.core.display.HTML at 0x1072446d0>"
       ]
      }
     ],
     "prompt_number": 18
    },
    {
     "cell_type": "code",
     "collapsed": false,
     "input": [],
     "language": "python",
     "metadata": {},
     "outputs": [],
     "prompt_number": 18
    }
   ],
   "metadata": {}
  }
 ]
}