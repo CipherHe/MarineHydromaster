{
 "metadata": {
  "name": "",
  "signature": "sha256:57dbbf4bdd4e6e57ddd4793e0150ff528b835e759b1760389ed385eeed5c6a24"
 },
 "nbformat": 3,
 "nbformat_minor": 0,
 "worksheets": [
  {
   "cells": [
    {
     "cell_type": "code",
     "collapsed": false,
     "input": [
      "import numpy\n",
      "from matplotlib import pyplot\n",
      "%matplotlib inline\n",
      "size = 7"
     ],
     "language": "python",
     "metadata": {},
     "outputs": [],
     "prompt_number": 1
    },
    {
     "cell_type": "heading",
     "level": 1,
     "metadata": {},
     "source": [
      "The Blasius boundary layer solution"
     ]
    },
    {
     "cell_type": "markdown",
     "metadata": {},
     "source": [
      "## The Blasius Equation\n",
      "\n",
      "The Prandtl equations on a flat plate are\n",
      "\n",
      "$$ u \\frac{\\partial u}{\\partial x}+ v \\frac{\\partial u}{\\partial y} = \\nu \\frac{\\partial^2 u}{\\partial y^2} $$\n",
      "$$ \\frac{\\partial u}{\\partial x}+ \\frac{\\partial v}{\\partial y} = 0. $$\n",
      "\n",
      "We don't have an equation for $v$, so we use the stream function $\\Psi$ to define the velocities as\n",
      "\n",
      "$$ u = \\frac{\\partial \\Psi}{\\partial y}, \\quad v = -\\frac{\\partial \\Psi}{\\partial x} $$\n",
      "\n",
      "and automatically satisfy the continuity equation. \n",
      "\n",
      "From scaling arguments we know the boundary layer thickness $\\delta$ scales as\n",
      "\n",
      "$$ \\frac\\delta x \\sim \\frac 1 {\\sqrt{Re}} $$\n",
      "\n",
      "and \n",
      "\n",
      "$$ \\frac u U = g\\left(\\frac y\\delta\\right) $$\n",
      "\n",
      "for a laminar flat plate boundary layer. Therefore we choose\n",
      "\n",
      "$$ \\Psi = \\sqrt{U \\nu x}\\enspace F(z), \\quad z=y\\sqrt{\\frac U{\\nu x}} $$\n",
      "\n",
      "such that \n",
      "\n",
      "$$ u = UF'(z) $$\n",
      "\n",
      "where $F'=\\tfrac{\\partial}{\\partial z}F$. Substitution into the momentum equation and simplification gives the **Blasius equation**\n",
      "\n",
      "$$ F''' +\\frac 12 FF'' = 0 $$\n",
      "\n",
      "with the boundary conditions $F(0) = F'(0) = 0$ and $F'(\\infty)=1$.\n",
      "\n",
      "---\n",
      "## Numerical Solution\n",
      "\n",
      "There is no known solution for this equation, so we will resort to a numerical method. \n",
      "\n",
      "### Runge-Kutta\n",
      "If this were an initial-value first-order differential equation we could use the classic [Runge-Kutta method](http://en.wikipedia.org/wiki/Runge%E2%80%93Kutta_methods#The_Runge.E2.80.93Kutta_method)"
     ]
    },
    {
     "cell_type": "code",
     "collapsed": false,
     "input": [
      "def RK4(fz,fp,dz):\n",
      "    k1 = fp(fz)\n",
      "    k2 = fp(fz+dz/2*k1)\n",
      "    k3 = fp(fz+dz/2*k2)\n",
      "    k4 = fp(fz+dz*k3)\n",
      "    return fz+dz/6*(k1+2*k2+2*k3+k4)"
     ],
     "language": "python",
     "metadata": {},
     "outputs": [],
     "prompt_number": 2
    },
    {
     "cell_type": "markdown",
     "metadata": {},
     "source": [
      "where `fz`=$f(z)$, `fp`=$f'$ is a function defining the first derivative of $f$, and `dz`=$\\Delta z$ is the step size. `RK4` returns the value of $f(z+\\Delta z)$.\n",
      "\n",
      "### First order-system\n",
      "\n",
      "In order to apply the Runge-Kutta method to the Blasius equation, we have to replace the third-order ODE with three first-order equations\n",
      "$$ F'=G $$\n",
      "$$ G'=H $$ \n",
      "$$ H'= F''' = -\\frac 12 F H $$\n",
      "\n",
      "The right hand side of these equations defines the first derivative of the system $f=[F,G,H]$:"
     ]
    },
    {
     "cell_type": "code",
     "collapsed": false,
     "input": [
      "def fp(f):\n",
      "    return numpy.array([f[1],f[2],-0.5*f[0]*f[2]])"
     ],
     "language": "python",
     "metadata": {},
     "outputs": [],
     "prompt_number": 3
    },
    {
     "cell_type": "markdown",
     "metadata": {},
     "source": [
      "and this function can be used in the `RK4` function to integrate the system. \n",
      "\n",
      "### Initial conditions\n",
      "\n",
      "But first, we need to set the initial conditions. The boundary conditions given above are $F(0)=0$, $F'(0)=G(0)=0$ and $F'(\\infty)=G(\\infty)=1$. However, the Runge-Kutta method requires that we set $F''(0)=H(0)$, which is unknown. The simplest strategy is to guess and adjust $H(0)$ until $G(\\infty)=1$."
     ]
    },
    {
     "cell_type": "heading",
     "level": 5,
     "metadata": {},
     "source": [
      "Challenge question"
     ]
    },
    {
     "cell_type": "markdown",
     "metadata": {},
     "source": [
      "Change `H0` in the code below until you achieve the far-field condition"
     ]
    },
    {
     "cell_type": "code",
     "collapsed": false,
     "input": [
      "H0 = 0.332           # Initial Condition\n",
      "dz = 0.05            # Step size\n",
      "Z = 10               # Integration limit\n",
      "\n",
      "n = int(Z/dz)        # Set-up arrays\n",
      "F = numpy.zeros(n)\n",
      "G = numpy.zeros(n)\n",
      "H = numpy.zeros(n)\n",
      "H[0] = H0\n",
      "\n",
      "for i in range(n-1): # Integrate from z=0..Z\n",
      "    fz = numpy.array([F[i],G[i],H[i]])\n",
      "    fz2 = RK4(fz,fp,dz)\n",
      "    F[i+1] = fz2[0]\n",
      "    G[i+1] = fz2[1]\n",
      "    H[i+1] = fz2[2]\n",
      "\n",
      "\"H(0)={H0:0.3f}, G({Z})={Ginf}\".format(H0=H0,Z=Z,Ginf=G[n-1])"
     ],
     "language": "python",
     "metadata": {},
     "outputs": [
      {
       "metadata": {},
       "output_type": "pyout",
       "prompt_number": 4,
       "text": [
        "'H(0)=0.332, G(10)=0.999884880035'"
       ]
      }
     ],
     "prompt_number": 4
    },
    {
     "cell_type": "markdown",
     "metadata": {},
     "source": [
      "With some trial and error we see that $H(0)\\approx0.33$ satifies our far field condition on $G$. "
     ]
    },
    {
     "cell_type": "heading",
     "level": 5,
     "metadata": {},
     "source": [
      "Challenge question"
     ]
    },
    {
     "cell_type": "markdown",
     "metadata": {},
     "source": [
      "Is $Z=10$ really close enough to $\\infty$? Is $\\Delta z=0.05$ small enough? Adjust the step size and integration limit to see how sensitive this solution is.\n",
      "\n",
      "---\n",
      "## Blasius profile properties\n",
      "\n",
      "### Boundary layer thickness: $\\delta$\n",
      "\n",
      "Because of our boundary conditions, $G=u/U=1$ only at $z=\\infty$, but $G$ is very close to 1 for finite values of $z$"
     ]
    },
    {
     "cell_type": "code",
     "collapsed": false,
     "input": [
      "i = 100\n",
      "delB = (i-1)*dz\n",
      "\"G({z})={G}\".format(z=delB,G=G[i-1])"
     ],
     "language": "python",
     "metadata": {},
     "outputs": [
      {
       "metadata": {},
       "output_type": "pyout",
       "prompt_number": 5,
       "text": [
        "'G(4.95)=0.990594212521'"
       ]
      }
     ],
     "prompt_number": 5
    },
    {
     "cell_type": "markdown",
     "metadata": {},
     "source": [
      "$G=u/U=0.99$ at $z=y\\sqrt{\\frac U{\\nu x}}\\approx 5$. This is typically used as the Blasius boundary layer thickness - _but this is arbitrary_!"
     ]
    },
    {
     "cell_type": "heading",
     "level": 5,
     "metadata": {},
     "source": [
      "Challenge question"
     ]
    },
    {
     "cell_type": "markdown",
     "metadata": {},
     "source": [
      "Find where the 99.9% thickness is by changing $i$ in the code above.\n",
      "\n",
      "### Displacement and momentum thickness\n",
      "\n",
      "The displacement thickness and momentum thickness values are well defined irregardless of $\\delta$.\n",
      "\n",
      "$$ \\delta_1 = \\int_0^\\infty 1-\\frac u U dy $$\n",
      "$$ \\delta_2 = \\int_0^\\infty \\frac u U \\left(1-\\frac u U\\right) dy $$"
     ]
    },
    {
     "cell_type": "code",
     "collapsed": false,
     "input": [
      "def delta12(f,dz): # Print del1,del2\n",
      "    del1 = numpy.trapz(1-f,dx=dz)\n",
      "    del2 = numpy.trapz(f*(1-f),dx=dz)\n",
      "    return (del1,del2,del1/del2)\n",
      "\n",
      "[\"%0.3f\" % j for j in delta12(G,dz)]"
     ],
     "language": "python",
     "metadata": {},
     "outputs": [
      {
       "metadata": {},
       "output_type": "pyout",
       "prompt_number": 6,
       "text": [
        "['1.722', '0.665', '2.590']"
       ]
      }
     ],
     "prompt_number": 6
    },
    {
     "cell_type": "markdown",
     "metadata": {},
     "source": [
      "And we see $\\delta_1 \\sqrt{\\frac U{\\nu x}} \\approx 1.7$,$\\ $ $\\delta_2\\sqrt{\\frac U{\\nu x}} \\approx 0.66$, and the shape factor $H = \\delta_1/\\delta_2 \\approx 2.6$\n",
      "\n",
      "## Comparison to polynomial profiles\n",
      "\n",
      "We next compare the Blasius profiles to the linear, Karman (quadratic), and Pohlhausen (quintic) profiles."
     ]
    },
    {
     "cell_type": "markdown",
     "metadata": {},
     "source": [
      "\n",
      "\n",
      "First we compute the boundary layer thickness factor $\\delta \\sqrt{\\frac U{\\nu x}} = \\sqrt{\\frac{2f'(0)}F}$ where $f(\\eta)$ is the polynomial defining the profile, $\\eta=y/\\delta$, and $F=\\delta_2/\\delta$."
     ]
    },
    {
     "cell_type": "code",
     "collapsed": false,
     "input": [
      "def delta(f,deta):\n",
      "    fp = (f[1]-f[0])/deta # Finite difference estimate of f'(0)\n",
      "    F = numpy.trapz(f*(1-f),dx=deta)\n",
      "    return numpy.sqrt(2*fp/F)"
     ],
     "language": "python",
     "metadata": {},
     "outputs": [],
     "prompt_number": 7
    },
    {
     "cell_type": "markdown",
     "metadata": {},
     "source": [
      "Since $z=\\eta\\delta\\sqrt{\\frac U{\\nu x}}$, we can then use the `delta12` function defined above to compute the other thicknesses in terms of $z$."
     ]
    },
    {
     "cell_type": "code",
     "collapsed": false,
     "input": [
      "row_format =\"{:>10}\"+\"{:>8.3f}\"*(4)\n",
      "def delAndPrint(f,name):\n",
      "    delf = delta(f,eta[1])\n",
      "    print(row_format.format(name,delf,*delta12(f,eta[1]*delf)))\n",
      "    return delf"
     ],
     "language": "python",
     "metadata": {},
     "outputs": [],
     "prompt_number": 8
    },
    {
     "cell_type": "markdown",
     "metadata": {},
     "source": [
      "Now we need only to define the profiles and compare:"
     ]
    },
    {
     "cell_type": "code",
     "collapsed": false,
     "input": [
      "eta = numpy.linspace(0.0,1.0,100)\n",
      "karman = 2*eta-eta**2\n",
      "pohlF = 2*eta-2*eta**3+eta**4\n",
      "\n",
      "head_format =(\"{:>18}\"+\"{:>8}\"*(3))\n",
      "print(head_format.format(\"del\",\"del_1\",\"del_2\",\"H\"))\n",
      "delL = delAndPrint(eta,\"Linear\")\n",
      "delK = delAndPrint(karman,\"Karman\")\n",
      "delP = delAndPrint(pohlF,\"Pohlhausen\")\n",
      "print(row_format.format(\"Blasius\",delB,*delta12(G,dz)))"
     ],
     "language": "python",
     "metadata": {},
     "outputs": [
      {
       "output_type": "stream",
       "stream": "stdout",
       "text": [
        "               del   del_1   del_2       H\n",
        "    Linear   3.464   1.732   0.577   3.000\n",
        "    Karman   5.464   1.821   0.728   2.500\n",
        "Pohlhausen   5.836   1.751   0.685   2.555\n",
        "   Blasius   4.950   1.722   0.665   2.590\n"
       ]
      }
     ],
     "prompt_number": 9
    },
    {
     "cell_type": "markdown",
     "metadata": {},
     "source": [
      "Other than the somewhat arbitrary $\\delta$ value, these compare very well with the Blasius solution.\n",
      "\n",
      "Finally, lets compare visually:"
     ]
    },
    {
     "cell_type": "code",
     "collapsed": false,
     "input": [
      "pyplot.figure(figsize=(size,size))\n",
      "pyplot.axis([0,1,0,7])\n",
      "pyplot.xlabel('u/U', fontsize=16)\n",
      "pyplot.ylabel('z', fontsize=16)\n",
      "pyplot.plot(eta,eta*delL, lw=3, label='Linear')\n",
      "pyplot.plot(karman,eta*delK, lw=3, label='Karman')\n",
      "pyplot.plot(pohlF,eta*delP, lw=3, color='k', label='Pohlhausen')\n",
      "pyplot.plot(G,numpy.linspace(0,Z,n), lw=3, label='Blasius')\n",
      "pyplot.legend(loc='upper left')\n",
      "pyplot.show()"
     ],
     "language": "python",
     "metadata": {},
     "outputs": [
      {
       "metadata": {},
       "output_type": "display_data",
       "png": "[encoded data removed]",
       "text": [
        "<matplotlib.figure.Figure at 0x1060b05d0>"
       ]
      }
     ],
     "prompt_number": 10
    },
    {
     "cell_type": "markdown",
     "metadata": {},
     "source": [
      "We can see that both the second and forth order estimates are close to the Blasius profile, but that neither matches exactly. This indictes that while these profiles match the boundary conditions, they do not satisfy the Prandtl equations throughout the boundary layer."
     ]
    },
    {
     "cell_type": "markdown",
     "metadata": {},
     "source": [
      "---\n",
      "Please ignore the cell below. It just loads our style for the notebooks."
     ]
    },
    {
     "cell_type": "code",
     "collapsed": false,
     "input": [
      "from IPython.core.display import HTML\n",
      "def css_styling():\n",
      "    styles = open('../styles/custom.css', 'r').read()\n",
      "    return HTML(styles)\n",
      "css_styling()"
     ],
     "language": "python",
     "metadata": {},
     "outputs": [
      {
       "html": [
        "<link href='http://fonts.googleapis.com/css?family=Fenix' rel='stylesheet' type='text/css'>\n",
        "<link href='http://fonts.googleapis.com/css?family=Alegreya+Sans:100,300,400,500,700,800,900,100italic,300italic,400italic,500italic,700italic,800italic,900italic' rel='stylesheet' type='text/css'>\n",
        "<link href='http://fonts.googleapis.com/css?family=Source+Code+Pro:300,400' rel='stylesheet' type='text/css'>\n",
        "<style>\n",
        "    @font-face {\n",
        "        font-family: \"Computer Modern\";\n",
        "        src: url('http://mirrors.ctan.org/fonts/cm-unicode/fonts/otf/cmunss.otf');\n",
        "    }\n",
        "    div.cell{\n",
        "        width:800px;\n",
        "        margin-left:16% !important;\n",
        "        margin-right:auto;\n",
        "    }\n",
        "    h1 {\n",
        "        font-family: 'Alegreya Sans', sans-serif;\n",
        "    }\n",
        "    h2 {\n",
        "        font-family: 'Fenix', serif;\n",
        "    }\n",
        "    h3{\n",
        "\t\tfont-family: 'Fenix', serif;\n",
        "        margin-top:12px;\n",
        "        margin-bottom: 3px;\n",
        "       }\n",
        "\th4{\n",
        "\t\tfont-family: 'Fenix', serif;\n",
        "       }\n",
        "    h5 {\n",
        "        font-family: 'Alegreya Sans', sans-serif;\n",
        "    }\t   \n",
        "    div.text_cell_render{\n",
        "        font-family: 'Alegreya Sans',Computer Modern, \"Helvetica Neue\", Arial, Helvetica, Geneva, sans-serif;\n",
        "        line-height: 135%;\n",
        "        font-size: 120%;\n",
        "        width:600px;\n",
        "        margin-left:auto;\n",
        "        margin-right:auto;\n",
        "    }\n",
        "    .CodeMirror{\n",
        "            font-family: \"Source Code Pro\";\n",
        "\t\t\tfont-size: 90%;\n",
        "    }\n",
        "/*    .prompt{\n",
        "        display: None;\n",
        "    }*/\n",
        "    .text_cell_render h1 {\n",
        "        font-weight: 200;\n",
        "        font-size: 50pt;\n",
        "\t\tline-height: 100%;\n",
        "        color:#CD2305;\n",
        "        margin-bottom: 0.5em;\n",
        "        margin-top: 0.5em;\n",
        "        display: block;\n",
        "    }\t\n",
        "    .text_cell_render h5 {\n",
        "        font-weight: 300;\n",
        "        font-size: 16pt;\n",
        "        color: #CD2305;\n",
        "        font-style: italic;\n",
        "        margin-bottom: .5em;\n",
        "        margin-top: 0.5em;\n",
        "        display: block;\n",
        "    }\n",
        "    \n",
        "    .warning{\n",
        "        color: rgb( 240, 20, 20 )\n",
        "        }  \n",
        "</style>\n",
        "<script>\n",
        "    MathJax.Hub.Config({\n",
        "                        TeX: {\n",
        "                           extensions: [\"AMSmath.js\"], \n",
        "                           equationNumbers: { autoNumber: \"AMS\", useLabelIds: true}\n",
        "                           },\n",
        "                tex2jax: {\n",
        "                    inlineMath: [ ['$','$'], [\"\\\\(\",\"\\\\)\"] ],\n",
        "                    displayMath: [ ['$$','$$'], [\"\\\\[\",\"\\\\]\"] ]\n",
        "                },\n",
        "                displayAlign: 'center', // Change this to 'center' to center equations.\n",
        "                \"HTML-CSS\": {\n",
        "                    styles: {'.MathJax_Display': {\"margin\": 4}}\n",
        "                }\n",
        "        });\n",
        "</script>\n"
       ],
       "metadata": {},
       "output_type": "pyout",
       "prompt_number": 11,
       "text": [
        "<IPython.core.display.HTML at 0x1060a8550>"
       ]
      }
     ],
     "prompt_number": 11
    }
   ],
   "metadata": {}
  }
 ]
}